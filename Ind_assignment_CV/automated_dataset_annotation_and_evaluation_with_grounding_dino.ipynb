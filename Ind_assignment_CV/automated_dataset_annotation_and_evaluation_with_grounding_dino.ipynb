{
  "cells": [
    {
      "cell_type": "markdown",
      "metadata": {
        "id": "hJZaniD_Lj0y"
      },
      "source": [
        "[![Roboflow Notebooks](https://media.roboflow.com/notebooks/template/bannertest2-2.png?ik-sdk-version=javascript-1.4.3&updatedAt=1672932710194)](https://github.com/roboflow/notebooks)\n",
        "\n",
        "# Automated Dataset Annotation and Evaluation with Grounding DINO\n",
        "\n",
        "---\n",
        "\n",
        "[![GitHub](https://badges.aleen42.com/src/github.svg)](https://github.com/IDEA-Research/GroundingDINO) [![arXiv](https://img.shields.io/badge/arXiv-2303.05499-b31b1b.svg)](https://arxiv.org/abs/2303.05499)\n",
        "\n",
        "Grounding DINO can detect **arbitrary objects** with human inputs such as category names or referring expressions. The key solution of open-set object detection is introducing language to a closed-set detector DINO. for open-set concept generalization. If you want to learn more visit official GitHub [repository](https://github.com/IDEA-Research/GroundingDINO) and read the [paper](https://arxiv.org/abs/2303.05499).\n",
        "\n",
        "![grounding dino figure](https://media.roboflow.com/notebooks/examples/grounding-dino-figure.png)\n",
        "\n",
        "## Complementary Materials\n",
        "\n",
        "---\n",
        "\n",
        "[![Roboflow](https://raw.githubusercontent.com/roboflow-ai/notebooks/main/assets/badges/roboflow-blogpost.svg)](https://blog.roboflow.com/grounding-dino-zero-shot-object-detection) [![YouTube](https://badges.aleen42.com/src/youtube.svg)](https://youtu.be/cMa77r3YrDk)\n",
        "\n",
        "We recommend that you follow along in this notebook while reading the blog post on Grounding DINO. We will talk about the advantages of Grounding DINO, analyze the model architecture, and provide real prompt examples.\n",
        "\n",
        "![grounding dino](https://media.roboflow.com/notebooks/examples/grounding-dino.png)\n",
        "\n",
        "## Pro Tip: Use GPU Acceleration\n",
        "\n",
        "If you are running this notebook in Google Colab, navigate to `Edit` -> `Notebook settings` -> `Hardware accelerator`, set it to `GPU`, and then click `Save`. This will ensure your notebook uses a GPU, which will significantly speed up model training times.\n",
        "\n",
        "## Steps in this Tutorial\n",
        "\n",
        "In this tutorial, we are going to cover:\n",
        "\n",
        "- **Before you start** - Make sure you have access to the GPU\n",
        "- **Install Grounding DINO** - Setup Python environment.\n",
        "- **Download Example Data** - Download a few images that we will use in our experiments.\n",
        "- **Load model**\n",
        "- **Model Prompt Engineering Results** - Let's compare the prediction results we can get by running the Grounding DINO model in different modes, and what effect feature engineering has on the quality of the obtained results.\n",
        "- **Utils Supporting Dataset Processing** - A couple of helper functions that, unfortunately, we have to write ourselves to facilitate the processing of COCO annotations.\n",
        "- **Download Dataset from Roboflow** - In order to evaluate how Grounding DINO handles zero-shot detection on custom datasets, we need to have labeled data. To do this, we download the data set in `COCO` format from Roboflow. In order to give you even more fun, we have selected for you several data sets with different levels of difficulty. Grounding DINO obtains mAPs on them from `1.0` to almost `0.0`.\n",
        "- **Single Image Human vs. Zero-Shot Annotation** - In this section, we compare the results of inference performed with Grounding DINO with manual annotations.\n",
        "- **Dataset Evaluation** - In this section, we compare the results obtained with the Grounding DINO model and manual annotations at the whole-dataset level. We will also calculate key metrics like mAP and confusion matrix.\n",
        "- **Dataset Auto Annotation** - Finally, how about putting Grounding DINO in front of a real test and using it to automatically annotate datasets.\n",
        "\n",
        "## Let's begin!"
      ]
    },
    {
      "cell_type": "markdown",
      "metadata": {
        "id": "nZl8yyG91L3a"
      },
      "source": [
        "## Before you start\n",
        "\n",
        "Let's make sure that we have access to GPU. We can use `nvidia-smi` command to do that. In case of any problems navigate to `Edit` -> `Notebook settings` -> `Hardware accelerator`, set it to `GPU`, and then click `Save`."
      ]
    },
    {
      "cell_type": "code",
      "execution_count": null,
      "metadata": {
        "colab": {
          "base_uri": "https://localhost:8080/"
        },
        "id": "K3-5XmGeL429",
        "outputId": "9252c769-8a4e-4734-f58e-f8d9e622a0f5"
      },
      "outputs": [
        {
          "output_type": "stream",
          "name": "stdout",
          "text": [
            "Sun Jun 23 15:17:25 2024       \n",
            "+---------------------------------------------------------------------------------------+\n",
            "| NVIDIA-SMI 535.104.05             Driver Version: 535.104.05   CUDA Version: 12.2     |\n",
            "|-----------------------------------------+----------------------+----------------------+\n",
            "| GPU  Name                 Persistence-M | Bus-Id        Disp.A | Volatile Uncorr. ECC |\n",
            "| Fan  Temp   Perf          Pwr:Usage/Cap |         Memory-Usage | GPU-Util  Compute M. |\n",
            "|                                         |                      |               MIG M. |\n",
            "|=========================================+======================+======================|\n",
            "|   0  Tesla T4                       Off | 00000000:00:04.0 Off |                    0 |\n",
            "| N/A   47C    P8              10W /  70W |      0MiB / 15360MiB |      0%      Default |\n",
            "|                                         |                      |                  N/A |\n",
            "+-----------------------------------------+----------------------+----------------------+\n",
            "                                                                                         \n",
            "+---------------------------------------------------------------------------------------+\n",
            "| Processes:                                                                            |\n",
            "|  GPU   GI   CI        PID   Type   Process name                            GPU Memory |\n",
            "|        ID   ID                                                             Usage      |\n",
            "|=======================================================================================|\n",
            "|  No running processes found                                                           |\n",
            "+---------------------------------------------------------------------------------------+\n"
          ]
        }
      ],
      "source": [
        "!nvidia-smi"
      ]
    },
    {
      "cell_type": "markdown",
      "metadata": {
        "id": "idmbQ49iEVW9"
      },
      "source": [
        "**NOTE:** To make it easier for us to manage datasets, images and models we create a `HOME` constant."
      ]
    },
    {
      "cell_type": "code",
      "execution_count": null,
      "metadata": {
        "colab": {
          "base_uri": "https://localhost:8080/"
        },
        "id": "KlPUVzPqPBMX",
        "outputId": "4f1e06f4-a56b-4252-8639-e4297a75b0f1"
      },
      "outputs": [
        {
          "output_type": "stream",
          "name": "stdout",
          "text": [
            "/content\n"
          ]
        }
      ],
      "source": [
        "import os\n",
        "HOME = os.getcwd()\n",
        "print(HOME)"
      ]
    },
    {
      "cell_type": "code",
      "execution_count": null,
      "metadata": {
        "colab": {
          "base_uri": "https://localhost:8080/"
        },
        "id": "NK_pMKdVIPN6",
        "outputId": "c24ebf7a-49e1-495c-bb50-127ccceaf45d"
      },
      "outputs": [
        {
          "output_type": "stream",
          "name": "stdout",
          "text": [
            "rm: cannot remove '/content/data': No such file or directory\n",
            "rm: cannot remove '/content/GroundingDINO': No such file or directory\n",
            "rm: cannot remove '/content/weights': No such file or directory\n",
            "rm: cannot remove '/content/drive': No such file or directory\n"
          ]
        }
      ],
      "source": [
        "%rm /content/data -r\n",
        "%rm /content/GroundingDINO -r\n",
        "%rm /content/weights -r\n",
        "%rm /content/drive -r\n"
      ]
    },
    {
      "cell_type": "markdown",
      "metadata": {
        "id": "_kIYUlze1Paj"
      },
      "source": [
        "## Install Grounding DINO & additional dependencies\n",
        "\n",
        "⚠️ Grounding DINO is still under heavy development.\n",
        "\n",
        "If you notice that our notebook behaves incorrectly - especially if you experience errors that prevent you from going through the tutorial - don't hesitate! Let us know and open an [issue](https://github.com/roboflow/notebooks/issues) on the Roboflow Notebooks repository.\n",
        "\n",
        "In addition to Grounding DINO, we will install some additional packages:\n",
        "- `roboflow` - To download and send datasets to cloud.\n",
        "- `dataclasses-json` - To make it easier to process COCO JSON and load data from disk.\n",
        "- `onemetric` - To compare the results of manual labeling with those obtained with Grounding DINO."
      ]
    },
    {
      "cell_type": "code",
      "execution_count": null,
      "metadata": {
        "colab": {
          "base_uri": "https://localhost:8080/"
        },
        "id": "h74T0FsJPk-P",
        "outputId": "80649756-cf8e-4f40-feac-6816f7083bcd"
      },
      "outputs": [
        {
          "output_type": "stream",
          "name": "stdout",
          "text": [
            "/content\n",
            "Cloning into 'GroundingDINO'...\n",
            "remote: Enumerating objects: 443, done.\u001b[K\n",
            "remote: Counting objects: 100% (210/210), done.\u001b[K\n",
            "remote: Compressing objects: 100% (81/81), done.\u001b[K\n",
            "remote: Total 443 (delta 156), reused 138 (delta 129), pack-reused 233\u001b[K\n",
            "Receiving objects: 100% (443/443), 12.86 MiB | 18.42 MiB/s, done.\n",
            "Resolving deltas: 100% (228/228), done.\n",
            "/content/GroundingDINO\n",
            "Branch 'feature/more_compact_inference_api' set up to track remote branch 'feature/more_compact_inference_api' from 'origin'.\n",
            "Switched to a new branch 'feature/more_compact_inference_api'\n",
            "  Preparing metadata (setup.py) ... \u001b[?25l\u001b[?25hdone\n",
            "\u001b[2K     \u001b[90m━━━━━━━━━━━━━━━━━━━━━━━━━━━━━━━━━━━━━━━━\u001b[0m \u001b[32m254.7/254.7 kB\u001b[0m \u001b[31m5.5 MB/s\u001b[0m eta \u001b[36m0:00:00\u001b[0m\n",
            "\u001b[2K     \u001b[90m━━━━━━━━━━━━━━━━━━━━━━━━━━━━━━━━━━━━━━━━\u001b[0m \u001b[32m2.3/2.3 MB\u001b[0m \u001b[31m14.1 MB/s\u001b[0m eta \u001b[36m0:00:00\u001b[0m\n",
            "\u001b[2K     \u001b[90m━━━━━━━━━━━━━━━━━━━━━━━━━━━━━━━━━━━━━━━━\u001b[0m \u001b[32m21.3/21.3 MB\u001b[0m \u001b[31m23.1 MB/s\u001b[0m eta \u001b[36m0:00:00\u001b[0m\n",
            "\u001b[2K     \u001b[90m━━━━━━━━━━━━━━━━━━━━━━━━━━━━━━━━━━━━━━━━\u001b[0m \u001b[32m75.6/75.6 kB\u001b[0m \u001b[31m3.3 MB/s\u001b[0m eta \u001b[36m0:00:00\u001b[0m\n",
            "\u001b[2K     \u001b[90m━━━━━━━━━━━━━━━━━━━━━━━━━━━━━━━━━━━━━━━━\u001b[0m \u001b[32m178.7/178.7 kB\u001b[0m \u001b[31m8.4 MB/s\u001b[0m eta \u001b[36m0:00:00\u001b[0m\n",
            "\u001b[2K     \u001b[90m━━━━━━━━━━━━━━━━━━━━━━━━━━━━━━━━━━━━━━━━\u001b[0m \u001b[32m54.5/54.5 kB\u001b[0m \u001b[31m7.8 MB/s\u001b[0m eta \u001b[36m0:00:00\u001b[0m\n",
            "\u001b[2K     \u001b[90m━━━━━━━━━━━━━━━━━━━━━━━━━━━━━━━━━━━━━━━━\u001b[0m \u001b[32m49.2/49.2 kB\u001b[0m \u001b[31m6.9 MB/s\u001b[0m eta \u001b[36m0:00:00\u001b[0m\n",
            "\u001b[?25h"
          ]
        }
      ],
      "source": [
        "%cd {HOME}\n",
        "!git clone https://github.com/IDEA-Research/GroundingDINO.git\n",
        "%cd {HOME}/GroundingDINO\n",
        "\n",
        "# we use latest Grounding DINO model API that is not official yet\n",
        "!git checkout feature/more_compact_inference_api\n",
        "\n",
        "!pip install -q -e .\n",
        "!pip install -q roboflow dataclasses-json onemetric"
      ]
    },
    {
      "cell_type": "markdown",
      "metadata": {
        "id": "VA604wCOErHU"
      },
      "source": [
        "**NOTE:** Before we begin, let's still log the version of all the key libraries we will use."
      ]
    },
    {
      "cell_type": "code",
      "execution_count": null,
      "metadata": {
        "id": "gg_XxD4TEliT",
        "colab": {
          "base_uri": "https://localhost:8080/"
        },
        "outputId": "5ae89f21-3dfe-4b64-8336-85a8aa71dd1e"
      },
      "outputs": [
        {
          "output_type": "stream",
          "name": "stdout",
          "text": [
            "nvcc: NVIDIA (R) Cuda compiler driver\n",
            "Copyright (c) 2005-2023 NVIDIA Corporation\n",
            "Built on Tue_Aug_15_22:02:13_PDT_2023\n",
            "Cuda compilation tools, release 12.2, V12.2.140\n",
            "Build cuda_12.2.r12.2/compiler.33191640_0\n",
            "torch:  2.3 ; cuda:  cu121\n",
            "roboflow: 1.1.33 ; supervision: 0.4.0\n"
          ]
        }
      ],
      "source": [
        "import torch\n",
        "!nvcc --version\n",
        "TORCH_VERSION = \".\".join(torch.__version__.split(\".\")[:2])\n",
        "CUDA_VERSION = torch.__version__.split(\"+\")[-1]\n",
        "print(\"torch: \", TORCH_VERSION, \"; cuda: \", CUDA_VERSION)\n",
        "\n",
        "import roboflow\n",
        "import supervision\n",
        "\n",
        "print(\n",
        "    \"roboflow:\", roboflow.__version__,\n",
        "    \"; supervision:\", supervision.__version__\n",
        ")"
      ]
    },
    {
      "cell_type": "markdown",
      "metadata": {
        "id": "_eg6EJxa-Ky4"
      },
      "source": [
        "**NOTE:** To run the Grounding DINO model we will need two things: a configuration file and a weights file. The first one is part of the repository we just cloned. The second one we need to download."
      ]
    },
    {
      "cell_type": "code",
      "execution_count": null,
      "metadata": {
        "id": "wQ5lVChCPm1T",
        "colab": {
          "base_uri": "https://localhost:8080/"
        },
        "outputId": "7a8532df-7e42-49ad-b6d3-55e8e41c1daa"
      },
      "outputs": [
        {
          "output_type": "stream",
          "name": "stdout",
          "text": [
            "/content/GroundingDINO/groundingdino/config/GroundingDINO_SwinT_OGC.py ; exist: True\n"
          ]
        }
      ],
      "source": [
        "# confirm that configuration file exist\n",
        "\n",
        "import os\n",
        "\n",
        "CONFIG_PATH = os.path.join(HOME, \"GroundingDINO/groundingdino/config/GroundingDINO_SwinT_OGC.py\")\n",
        "print(CONFIG_PATH, \"; exist:\", os.path.isfile(CONFIG_PATH))"
      ]
    },
    {
      "cell_type": "code",
      "execution_count": null,
      "metadata": {
        "id": "CXDDyDXZQEyB",
        "colab": {
          "base_uri": "https://localhost:8080/"
        },
        "outputId": "8095335a-91d6-4ef2-b823-9159b5a5ce7c"
      },
      "outputs": [
        {
          "output_type": "stream",
          "name": "stdout",
          "text": [
            "/content\n",
            "/content/weights\n"
          ]
        }
      ],
      "source": [
        "# download weights file\n",
        "\n",
        "%cd {HOME}\n",
        "!mkdir {HOME}/weights\n",
        "%cd {HOME}/weights\n",
        "\n",
        "!wget -q https://github.com/IDEA-Research/GroundingDINO/releases/download/v0.1.0-alpha/groundingdino_swint_ogc.pth"
      ]
    },
    {
      "cell_type": "code",
      "execution_count": null,
      "metadata": {
        "id": "zJNOIAhGQGlk",
        "colab": {
          "base_uri": "https://localhost:8080/"
        },
        "outputId": "7cad0328-71ba-46dc-a209-77ecc8e6a0de"
      },
      "outputs": [
        {
          "output_type": "stream",
          "name": "stdout",
          "text": [
            "/content/weights/groundingdino_swint_ogc.pth ; exist: True\n"
          ]
        }
      ],
      "source": [
        "# confirm that weights file exist\n",
        "\n",
        "import os\n",
        "\n",
        "WEIGHTS_PATH = os.path.join(HOME, \"weights\", \"groundingdino_swint_ogc.pth\")\n",
        "print(WEIGHTS_PATH, \"; exist:\", os.path.isfile(WEIGHTS_PATH))"
      ]
    },
    {
      "cell_type": "markdown",
      "metadata": {
        "id": "t2nLWodW1cfl"
      },
      "source": [
        "## Download Data\n",
        "\n",
        "We download a few images that we will use in our experiments - feature engineering and automated data annotation.\n"
      ]
    },
    {
      "cell_type": "code",
      "execution_count": null,
      "metadata": {
        "colab": {
          "base_uri": "https://localhost:8080/"
        },
        "id": "I1hRMRyFkJ5R",
        "outputId": "8ccceda6-0d7e-4ff9-bbcd-87b470cd38b2"
      },
      "outputs": [
        {
          "output_type": "stream",
          "name": "stdout",
          "text": [
            "Mounted at /content/drive\n",
            "Files in the folder: ['rat_88.jpg', 'rat_127.jpg', 'rat_5.jpg', 'rat_1.jpg', 'rat_119.jpg', 'rat_55.jpg', 'rat_18.jpg', 'rat_66.jpg', 'rat_13.jpg', 'rat_12.jpg', 'rat_19.jpg', 'rat_49.jpg', 'rat_8.jpg', 'rat_43.jpg', 'rat_59.jpg', 'rat_68.jpg', 'rat_47.jpg', 'rat_17.jpg', 'rat_45.jpg', 'rat_137.jpg', 'rat_64.jpg', 'rat_7.jpg', 'rat_53.jpg', 'rat_70.jpg', 'rat_96.jpg', 'rat_41.jpg', 'rat_57.jpg', 'rat_104.jpg', 'rat_2.jpg', 'rat_20.jpg', 'rat_3.jpg', 'rat_6.jpg', 'rat_51.jpg', 'rat_115.jpg', 'rat_80.jpg', 'rat_94.jpg', 'rat_74.jpg', 'rat_110.jpg', 'rat_145.jpg', 'rat_11.jpg', 'rat_121.jpg', 'rat_196.jpg', 'rat_147.jpg', 'rat_208.jpg', 'rat_178.jpg', 'rat_288.jpg', 'rat_235.jpg', 'rat_84.jpg', 'rat_180.jpg', 'rat_166.jpg', 'rat_102.jpg', 'rat_106.jpg', 'rat_184.jpg', 'rat_108.jpg', 'rat_153.jpg', 'rat_170.jpg', 'rat_92.jpg', 'rat_78.jpg', 'rat_86.jpg', 'rat_131.jpg', 'rat_241.jpg', 'rat_168.jpg', 'rat_151.jpg', 'rat_190.jpg', 'rat_90.jpg', 'rat_72.jpg', 'rat_98.jpg', 'rat_117.jpg', 'rat_233.jpg', 'rat_76.jpg', 'rat_204.jpg', 'rat_143.jpg', 'rat_161.jpg', 'rat_172.jpg', 'rat_139.jpg', 'rat_123.jpg', 'rat_82.jpg', 'rat_182.jpg', 'rat_125.jpg', 'rat_141.jpg', 'rat_129.jpg', 'rat_292.jpg', 'rat_263.jpg', 'rat_223.jpg', 'rat_312.jpg', 'rat_337.jpg', 'rat_321.jpg', 'rat_159.jpg', 'rat_253.jpg', 'rat_378.jpg', 'rat_286.jpg', 'rat_149.jpg', 'rat_308.jpg', 'rat_186.jpg', 'rat_249.jpg', 'rat_225.jpg', 'rat_231.jpg', 'rat_296.jpg', 'rat_329.jpg', 'rat_237.jpg', 'rat_206.jpg', 'rat_261.jpg', 'rat_133.jpg', 'rat_174.jpg', 'rat_219.jpg', 'rat_257.jpg', 'rat_202.jpg', 'rat_188.jpg', 'rat_229.jpg', 'rat_270.jpg', 'rat_157.jpg', 'rat_212.jpg', 'rat_284.jpg', 'rat_278.jpg', 'rat_282.jpg', 'rat_221.jpg', 'rat_192.jpg', 'rat_325.jpg', 'rat_194.jpg', 'rat_298.jpg', 'rat_217.jpg', 'rat_100.jpg', 'rat_135.jpg', 'rat_294.jpg', 'rat_210.jpg', 'rat_245.jpg', 'rat_402.jpg', 'rat_198.jpg', 'rat_357.jpg', 'rat_445.jpg', 'rat_25.jpg', 'rat_376.jpg', 'rat_251.jpg', 'rat_255.jpg', 'rat_421.jpg', 'rat_306.jpg', 'rat_343.jpg', 'rat_276.jpg', 'rat_404.jpg', 'rat_439.jpg', 'rat_437.jpg', 'rat_302.jpg', 'rat_400.jpg', 'rat_384.jpg', 'rat_333.jpg', 'rat_314.jpg', 'rat_353.jpg', 'rat_392.jpg', 'rat_341.jpg', 'rat_27.jpg', 'rat_274.jpg', 'rat_351.jpg', 'rat_29.jpg', 'rat_310.jpg', 'rat_359.jpg', 'rat_535.jpg', 'rat_355.jpg', 'rat_304.jpg', 'rat_247.jpg', 'rat_406.jpg', 'rat_370.jpg', 'rat_461.jpg', 'rat_327.jpg', 'rat_243.jpg', 'rat_319.jpg', 'rat_300.jpg', 'rat_435.jpg', 'rat_363.jpg', 'rat_268.jpg', 'rat_494.jpg', 'rat_474.jpg', 'rat_443.jpg', 'rat_382.jpg', 'rat_541.jpg', 'rat_394.jpg', 'rat_508.jpg', 'rat_423.jpg', 'rat_380.jpg', 'rat_447.jpg', 'rat_386.jpg', 'rat_39.jpg', 'rat_449.jpg', 'rat_565.jpg', 'rat_272.jpg', 'rat_498.jpg', 'rat_490.jpg', 'rat_21.jpg', 'rat_31.jpg', 'rat_555.jpg', 'rat_492.jpg', 'rat_645.jpg', 'rat_453.jpg', 'rat_431.jpg', 'rat_523.jpg', 'rat_388.jpg', 'rat_33.jpg', 'rat_416.jpg', 'rat_412.jpg', 'rat_398.jpg', 'rat_429.jpg', 'rat_545.jpg', 'rat_472.jpg', 'rat_37.jpg', 'rat_365.jpg', 'rat_455.jpg', 'rat_23.jpg', 'rat_396.jpg', 'rat_457.jpg', 'rat_696.jpg', 'rat_596.jpg', 'rat_465.jpg', 'rat_574.jpg', 'rat_706.jpg', 'rat_506.jpg', 'rat_480.jpg', 'rat_616.jpg', 'rat_647.jpg', 'rat_592.jpg', 'rat_627.jpg', 'rat_643.jpg', 'rat_714.jpg', 'rat_476.jpg', 'rat_608.jpg', 'rat_502.jpg', 'rat_641.jpg', 'rat_671.jpg', 'rat_718.jpg', 'rat_425.jpg', 'rat_704.jpg', 'rat_698.jpg', 'rat_747.jpg', 'rat_708.jpg', 'rat_798.jpg', 'rat_584.jpg', 'rat_463.jpg', 'rat_488.jpg', 'rat_682.jpg', 'rat_533.jpg', 'rat_557.jpg', 'rat_467.jpg', 'rat_563.jpg', 'rat_586.jpg', 'rat_606.jpg', 'rat_667.jpg', 'rat_561.jpg', 'rat_582.jpg', 'rat_518.jpg', 'rat_684.jpg', 'rat_600.jpg', 'rat_539.jpg', 'rat_553.jpg', 'rat_745.jpg', 'rat_594.jpg', 'rat_877.jpg', 'rat_814.jpg', 'rat_847.jpg', 'rat_657.jpg', 'rat_810.jpg', 'rat_665.jpg', 'rat_578.jpg', 'rat_761.jpg', 'rat_567.jpg', 'rat_849.jpg', 'rat_743.jpg', 'rat_751.jpg', 'rat_661.jpg', 'rat_765.jpg', 'rat_720.jpg', 'rat_590.jpg', 'rat_737.jpg', 'rat_806.jpg', 'rat_588.jpg', 'rat_829.jpg', 'rat_680.jpg', 'rat_859.jpg', 'rat_759.jpg', 'rat_753.jpg', 'rat_792.jpg', 'rat_767.jpg', 'rat_891.jpg', 'rat_631.jpg', 'rat_649.jpg', 'rat_861.jpg', 'rat_822.jpg', 'rat_637.jpg', 'rat_895.jpg', 'rat_873.jpg', 'rat_692.jpg', 'rat_651.jpg', 'rat_800.jpg', 'rat_633.jpg', 'rat_757.jpg', 'rat_855.jpg', 'rat_694.jpg', 'rat_612.jpg', 'rat_576.jpg', 'rat_716.jpg', 'rat_604.jpg', 'rat_967.jpg', 'rat_977.jpg', 'rat_965.jpg', 'rat_989.jpg', 'rat_897.jpg', 'rat_786.jpg', 'rat_941.jpg', 'rat_881.jpg', 'rat_1067.jpg', 'rat_919.jpg', 'rat_933.jpg', 'rat_975.jpg', 'rat_903.jpg', 'rat_883.jpg', 'rat_911.jpg', 'rat_1071.jpg', 'rat_937.jpg', 'rat_907.jpg', 'rat_889.jpg', 'rat_1101.jpg', 'rat_887.jpg', 'rat_831.jpg', 'rat_865.jpg', 'rat_943.jpg', 'rat_879.jpg', 'rat_1087.jpg', 'rat_871.jpg', 'rat_1079.jpg', 'rat_931.jpg', 'rat_812.jpg', 'rat_893.jpg', 'rat_913.jpg', 'rat_788.jpg', 'rat_935.jpg', 'rat_973.jpg', 'rat_955.jpg', 'rat_639.jpg', 'rat_790.jpg', 'rat_1025.jpg', 'rat_839.jpg', 'rat_947.jpg', 'rat_1107.jpg', 'rat_1111.jpg', 'rat_1047.jpg', 'rat_1091.jpg', 'rat_1083.jpg', 'rat_1073.jpg', 'rat_1095.jpg', 'rat_1059.jpg', 'rat_1273.jpg', 'rat_1249.jpg', 'rat_1089.jpg', 'rat_1121.jpg', 'rat_1027.jpg', 'rat_961.jpg', 'rat_1099.jpg', 'rat_1017.jpg', 'rat_1247.jpg', 'rat_1049.jpg', 'rat_1223.jpg', 'rat_1307.jpg', 'rat_981.jpg', 'rat_957.jpg', 'rat_1075.jpg', 'rat_991.jpg', 'rat_1043.jpg', 'rat_1167.jpg', 'rat_1329.jpg', 'rat_995.jpg', 'rat_939.jpg', 'rat_1045.jpg', 'rat_949.jpg', 'rat_1327.jpg', 'rat_993.jpg', 'rat_1081.jpg', 'rat_971.jpg', 'rat_1057.jpg', 'rat_987.jpg', 'rat_1037.jpg', 'rat_1039.jpg', 'rat_1023.jpg', 'rat_1233.jpg', 'rat_1077.jpg', 'rat_1257.jpg', 'rat_1155.jpg', 'rat_1147.jpg', 'rat_1355.jpg', 'rat_1211.jpg', 'rat_1447.jpg', 'rat_1153.jpg', 'rat_1293.jpg', 'rat_1385.jpg', 'rat_1143.jpg', 'rat_1399.jpg', 'rat_1185.jpg', 'rat_1245.jpg', 'rat_1243.jpg', 'rat_1443.jpg', 'rat_1195.jpg', 'rat_1251.jpg', 'rat_1291.jpg', 'rat_1183.jpg', 'rat_1409.jpg', 'rat_1343.jpg', 'rat_1189.jpg', 'rat_1309.jpg', 'rat_1261.jpg', 'rat_1297.jpg', 'rat_1391.jpg', 'rat_1163.jpg', 'rat_1301.jpg', 'rat_1337.jpg', 'rat_1431.jpg', 'rat_1445.jpg', 'rat_1485.jpg', 'rat_1451.jpg', 'rat_1473.jpg', 'rat_1514.jpg', 'rat_1479.jpg', 'rat_1457.jpg', 'rat_1357.jpg', 'rat_1325.jpg', 'rat_1313.jpg', 'rat_1536.jpg', 'rat_1465.jpg', 'rat_1425.jpg', 'rat_1499.jpg', 'rat_1550.jpg', 'rat_1477.jpg', 'rat_1471.jpg', 'rat_1530.jpg', 'rat_1495.jpg', 'rat_1516.jpg', 'rat_1542.jpg', 'rat_1413.jpg', 'rat_1351.jpg', 'rat_1467.jpg', 'rat_1508.jpg', 'rat_1379.jpg', 'rat_1437.jpg', 'rat_1419.jpg', 'rat_1387.jpg', 'rat_1317.jpg', 'rat_1459.jpg', 'rat_1489.jpg', 'rat_1433.jpg']\n"
          ]
        }
      ],
      "source": [
        "from google.colab import drive\n",
        "import os\n",
        "import cv2\n",
        "import supervision as sv\n",
        "import matplotlib.pyplot as plt\n",
        "\n",
        "\n",
        "#First we need to load our drive folders, since we have the rat dataset in our drive account.\n",
        "drive.mount('/content/drive')\n",
        "\n",
        "# Step 2: Define the path to your Google Drive folder\n",
        "drive_folder_path = '/content/drive/My Drive/RatImagesAssignment'\n",
        "\n",
        "# Step 3: List the files in the folder (optional)\n",
        "file_list = os.listdir(drive_folder_path)\n",
        "print(\"Files in the folder:\", file_list)"
      ]
    },
    {
      "cell_type": "code",
      "execution_count": null,
      "metadata": {
        "colab": {
          "base_uri": "https://localhost:8080/"
        },
        "id": "SjjkgBoKgGsN",
        "outputId": "610fd7eb-9121-4102-d8df-e88d9c0b3d24"
      },
      "outputs": [
        {
          "output_type": "stream",
          "name": "stdout",
          "text": [
            "/content\n",
            "/content/data\n"
          ]
        }
      ],
      "source": [
        "#Creating our folder data in /content\n",
        "\n",
        "%cd {HOME}\n",
        "!mkdir {HOME}/data\n",
        "%cd {HOME}/data\n",
        "\n",
        "# !wget -q https://drive.google.com/drive/folders/1MKCG-kqBfCAGn1vcT6B50eUcOKnCg4Hl"
      ]
    },
    {
      "cell_type": "code",
      "execution_count": null,
      "metadata": {
        "colab": {
          "base_uri": "https://localhost:8080/"
        },
        "id": "ysRWCwNLm_Mi",
        "outputId": "032fc032-3f55-4061-b316-0150681c9498"
      },
      "outputs": [
        {
          "output_type": "stream",
          "name": "stdout",
          "text": [
            "Files moved from /content/drive/My Drive/RatImagesAssignment to /content/data\n"
          ]
        }
      ],
      "source": [
        "#Copying the dataset from our drive to /content/data\n",
        "\n",
        "import shutil\n",
        "source_folder = '/content/drive/My Drive/RatImagesAssignment'\n",
        "destination_folder = '/content/data'\n",
        "\n",
        "for file_name in os.listdir(source_folder):\n",
        "    source_file = os.path.join(source_folder, file_name)\n",
        "    destination_file = os.path.join(destination_folder, file_name)\n",
        "    shutil.copy(source_file, destination_file)\n",
        "\n",
        "print(f\"Files moved from {source_folder} to {destination_folder}\")"
      ]
    },
    {
      "cell_type": "markdown",
      "metadata": {
        "id": "ubWhn0cK1A0v"
      },
      "source": [
        "## Load model"
      ]
    },
    {
      "cell_type": "code",
      "execution_count": null,
      "metadata": {
        "colab": {
          "base_uri": "https://localhost:8080/",
          "height": 333,
          "referenced_widgets": [
            "e9b780f643db4b78ac9ed23c7d30c7fc",
            "3f6d5ada72294f60a54d25b07f59eb53",
            "2831f1e1f7f34051b3f7c40eac38a9f3",
            "a0a32ebee4614c7799743a86febfd578",
            "88397cba81784d7fa1eb67d73fd7b5cc",
            "271c9ca14c824e908e7c52ffadee33d4",
            "69922cad826b4ab8b670abdaba5acbf2",
            "02b1928331a145429b1173badeb494d7",
            "ed8ededaadaa4273a12d26dcf172077b",
            "3415c09331294c0a871b0fdf4ddcaab6",
            "41fd5aad56924a039693b97ba0967c7a",
            "fe04348e8aba4f959f0dadacae7947b8",
            "76e40922403149de93326896c28d754c",
            "a28f264aa6514603bcb18223f51edf73",
            "4fde723c563849c9bd57cfc6021746d5",
            "b5d23f2ab6d946a6a9ef6be2a83aaaab",
            "7a7829c47092424a93b8b9c6f184dc5a",
            "8657e61576404ef0aed56c9e5b6fd5f2",
            "b7e761ee990c422a859482234faba817",
            "a9ff97866b6d4a849fdd0f7917807abf",
            "f7127a4823694060a3468cc626f8c9af",
            "b019dd79ea24430aac303802c0476748",
            "834796b20bbb4765a5e46c35bd63116a",
            "2cde26b712a346eda63452e41daabf75",
            "244d462512a0458e8f4d26f016dc4236",
            "2b2b7cc88b9041b89a93e5621767e77b",
            "6852c192047340efb3427c25219a89f8",
            "df50a3e378d94a8883bf49ec2beccecb",
            "3ef070c491e34fc4b6993282b8c73197",
            "f5544f36ebd342758d38d3d88e2578e7",
            "fce3d1865ae64758aec5019e0fa27df5",
            "2e76c04a99f14bc6969dbe6f4406f663",
            "61f2e47e100044e6b8fd03fd564fe560",
            "2d8c18d334fb497b80ab2fc30ceeca3d",
            "922e720b10b54a67a320c0bff55c1cbe",
            "82c08dcf42f5432d897618e7384c848d",
            "c61d1e2076ee42c4a8c35fce04a811bc",
            "dd55d37bc2fe4fcda6a32c763db9eb40",
            "64e4245cdd664cd2852a48ca60e6b341",
            "1b246c2c9e8c4ece9fdd3ff3cf39c84a",
            "59047ffb9a4e422d84f070155380de2f",
            "f617168eadd347848079fb12b66c5d08",
            "7a1fd2e974684ee1a32fb97641ada64d",
            "f58325fd89f74c079454decee7e7a906",
            "b989aa23e4924569b7e4ff5392ed4a3b",
            "ad32df5b47df4156a1b92098fd76ca3a",
            "0bf484e207a148cfaa10677b292514f3",
            "2973b2a7c59a4b1b89376182f24fd0ad",
            "fc8128f829da409eb1db92187f024b25",
            "f9cb2dd4aa9b4d549022fbae27f937a0",
            "2cfeeb784dd0422dbcd91998e6fb6edd",
            "d82cebbc3d5e47738cf23419ca7b2898",
            "184d1423443f4106b260351d88877553",
            "9b5bc5f150f84f478efcc576fd4ba3a5",
            "d48be996fa2349e5b415f6b86561a123"
          ]
        },
        "id": "h2HcRd6dDuyH",
        "outputId": "605f2b88-5853-44d6-e4bc-21c16bb89a86"
      },
      "outputs": [
        {
          "output_type": "stream",
          "name": "stdout",
          "text": [
            "/content/GroundingDINO\n"
          ]
        },
        {
          "output_type": "stream",
          "name": "stderr",
          "text": [
            "torch.meshgrid: in an upcoming release, it will be required to pass the indexing argument. (Triggered internally at ../aten/src/ATen/native/TensorShape.cpp:3587.)\n"
          ]
        },
        {
          "output_type": "stream",
          "name": "stdout",
          "text": [
            "final text_encoder_type: bert-base-uncased\n"
          ]
        },
        {
          "output_type": "stream",
          "name": "stderr",
          "text": [
            "\n",
            "The secret `HF_TOKEN` does not exist in your Colab secrets.\n",
            "To authenticate with the Hugging Face Hub, create a token in your settings tab (https://huggingface.co/settings/tokens), set it as secret in your Google Colab and restart your session.\n",
            "You will be able to reuse this secret in all of your notebooks.\n",
            "Please note that authentication is recommended but still optional to access public models or datasets.\n"
          ]
        },
        {
          "output_type": "display_data",
          "data": {
            "text/plain": [
              "tokenizer_config.json:   0%|          | 0.00/48.0 [00:00<?, ?B/s]"
            ],
            "application/vnd.jupyter.widget-view+json": {
              "version_major": 2,
              "version_minor": 0,
              "model_id": "e9b780f643db4b78ac9ed23c7d30c7fc"
            }
          },
          "metadata": {}
        },
        {
          "output_type": "stream",
          "name": "stderr",
          "text": [
            "`resume_download` is deprecated and will be removed in version 1.0.0. Downloads always resume when possible. If you want to force a new download, use `force_download=True`.\n"
          ]
        },
        {
          "output_type": "display_data",
          "data": {
            "text/plain": [
              "config.json:   0%|          | 0.00/570 [00:00<?, ?B/s]"
            ],
            "application/vnd.jupyter.widget-view+json": {
              "version_major": 2,
              "version_minor": 0,
              "model_id": "fe04348e8aba4f959f0dadacae7947b8"
            }
          },
          "metadata": {}
        },
        {
          "output_type": "display_data",
          "data": {
            "text/plain": [
              "vocab.txt:   0%|          | 0.00/232k [00:00<?, ?B/s]"
            ],
            "application/vnd.jupyter.widget-view+json": {
              "version_major": 2,
              "version_minor": 0,
              "model_id": "834796b20bbb4765a5e46c35bd63116a"
            }
          },
          "metadata": {}
        },
        {
          "output_type": "display_data",
          "data": {
            "text/plain": [
              "tokenizer.json:   0%|          | 0.00/466k [00:00<?, ?B/s]"
            ],
            "application/vnd.jupyter.widget-view+json": {
              "version_major": 2,
              "version_minor": 0,
              "model_id": "2d8c18d334fb497b80ab2fc30ceeca3d"
            }
          },
          "metadata": {}
        },
        {
          "output_type": "display_data",
          "data": {
            "text/plain": [
              "model.safetensors:   0%|          | 0.00/440M [00:00<?, ?B/s]"
            ],
            "application/vnd.jupyter.widget-view+json": {
              "version_major": 2,
              "version_minor": 0,
              "model_id": "b989aa23e4924569b7e4ff5392ed4a3b"
            }
          },
          "metadata": {}
        }
      ],
      "source": [
        "%cd {HOME}/GroundingDINO\n",
        "\n",
        "from groundingdino.util.inference import Model\n",
        "\n",
        "model = Model(model_config_path=CONFIG_PATH, model_checkpoint_path=WEIGHTS_PATH)"
      ]
    },
    {
      "cell_type": "markdown",
      "metadata": {
        "id": "HCvA0vem09Ap"
      },
      "source": [
        "## Model Prompt Engineering Results\n",
        "\n",
        "Let's compare the prediction results we can get by running the Grounding DINO model in different modes, and what effect feature engineering has on the quality of the obtained results"
      ]
    },
    {
      "cell_type": "code",
      "execution_count": null,
      "metadata": {
        "id": "76-g3hTpx0aX"
      },
      "outputs": [],
      "source": [
        "SOURCE_IMAGE_PATH = f\"{HOME}/data/rat_1.jpg\"\n",
        "CLASSES = ['rat']\n",
        "BOX_TRESHOLD = 0.35\n",
        "TEXT_TRESHOLD = 0.25"
      ]
    },
    {
      "cell_type": "code",
      "execution_count": null,
      "metadata": {
        "colab": {
          "base_uri": "https://localhost:8080/"
        },
        "id": "kakyuLyNlq56",
        "outputId": "031a84ca-1d06-4356-d67c-d7f76d02c746"
      },
      "outputs": [
        {
          "output_type": "stream",
          "name": "stdout",
          "text": [
            "/content/data/rat_1.jpg\n"
          ]
        }
      ],
      "source": [
        "print(SOURCE_IMAGE_PATH)"
      ]
    },
    {
      "cell_type": "markdown",
      "metadata": {
        "id": "ZfReTSKqOVsU"
      },
      "source": [
        "### Caption Inference Mode\n",
        "---\n",
        "**NOTE:** Most flexible. You pass single prompt string as argument. Phrases returned by the model during prediction are treated as arbitrary strings and not as categories. For this reason, BoxAnnotator produces paint boxes in different colors even if the phrase assigned to the box is the same."
      ]
    },
    {
      "cell_type": "code",
      "execution_count": null,
      "metadata": {
        "colab": {
          "background_save": true
        },
        "id": "j8mn-lON6o7W"
      },
      "outputs": [],
      "source": [
        "import cv2\n",
        "\n",
        "import supervision as sv\n",
        "\n",
        "\n",
        "image = cv2.imread(SOURCE_IMAGE_PATH)\n",
        "caption = \", \".join(CLASSES)\n",
        "\n",
        "detections, labels = model.predict_with_caption(\n",
        "    image=image,\n",
        "    caption=caption,\n",
        "    box_threshold=BOX_TRESHOLD,\n",
        "    text_threshold=TEXT_TRESHOLD\n",
        ")\n",
        "\n",
        "box_annotator = sv.BoxAnnotator()\n",
        "labels = [\n",
        "    f\"{label} {confidence:0.2f}\"\n",
        "    for label, (_, confidence, class_id, _)\n",
        "    in zip(labels, detections)]\n",
        "annotated_frame = box_annotator.annotate(scene=image.copy(), detections=detections, labels=labels)\n",
        "\n",
        "\n",
        "%matplotlib inline\n",
        "sv.plot_image(annotated_frame, (16, 16))"
      ]
    },
    {
      "cell_type": "markdown",
      "metadata": {
        "id": "klg5cQDiR_p8"
      },
      "source": [
        "### Classes Inference Mode\n",
        "---\n",
        "**NOTE:** You pass list of classes as a argument. Phrases returned by the model during prediction are treated as categories. For this reason, BoxAnnotator produces paint boxes with the same associated categories with the same color."
      ]
    },
    {
      "cell_type": "code",
      "execution_count": null,
      "metadata": {
        "colab": {
          "background_save": true
        },
        "id": "m8W0ZU371cn6"
      },
      "outputs": [],
      "source": [
        "import cv2\n",
        "\n",
        "import supervision as sv\n",
        "\n",
        "\n",
        "image = cv2.imread(SOURCE_IMAGE_PATH)\n",
        "\n",
        "detections = model.predict_with_classes(\n",
        "    image=image,\n",
        "    classes=CLASSES,\n",
        "    box_threshold=BOX_TRESHOLD,\n",
        "    text_threshold=TEXT_TRESHOLD\n",
        ")\n",
        "\n",
        "box_annotator = sv.BoxAnnotator()\n",
        "labels = [\n",
        "    f\"{CLASSES[class_id]} {confidence:0.2f}\"\n",
        "    for _, confidence, class_id, _\n",
        "    in detections]\n",
        "annotated_frame = box_annotator.annotate(scene=image.copy(), detections=detections, labels=labels)\n",
        "\n",
        "\n",
        "%matplotlib inline\n",
        "sv.plot_image(annotated_frame, (16, 16))"
      ]
    },
    {
      "cell_type": "markdown",
      "metadata": {
        "id": "aI3SIrJzSw8Z"
      },
      "source": [
        "### Enhanced Classes Inference Mode\n",
        "---\n",
        "**NOTE:** You pass list of classes as a argument. Those classes are enhenced using prompt engineering to ensure better result. Phrases returned by the model during prediction are treated as categories. For this reason, BoxAnnotator produces paint boxes with the same associated categories with the same color."
      ]
    },
    {
      "cell_type": "code",
      "execution_count": null,
      "metadata": {
        "colab": {
          "background_save": true
        },
        "id": "FkvduY_iY5UT"
      },
      "outputs": [],
      "source": [
        "from typing import List\n",
        "\n",
        "def enhance_class_name(class_names: List[str]) -> List[str]:\n",
        "    return [\n",
        "        f\"all {class_name}s\"\n",
        "        for class_name\n",
        "        in class_names\n",
        "    ]"
      ]
    },
    {
      "cell_type": "code",
      "execution_count": null,
      "metadata": {
        "colab": {
          "background_save": true
        },
        "id": "ACLVsdief9LC"
      },
      "outputs": [],
      "source": [
        "import cv2\n",
        "\n",
        "import supervision as sv\n",
        "\n",
        "\n",
        "image = cv2.imread(SOURCE_IMAGE_PATH)\n",
        "\n",
        "detections = model.predict_with_classes(\n",
        "    image=image,\n",
        "    classes=enhance_class_name(class_names=CLASSES),\n",
        "    box_threshold=BOX_TRESHOLD,\n",
        "    text_threshold=TEXT_TRESHOLD\n",
        ")\n",
        "\n",
        "box_annotator = sv.BoxAnnotator()\n",
        "labels = [\n",
        "    f\"{CLASSES[class_id]} {confidence:0.2f}\"\n",
        "    for _, confidence, class_id, _\n",
        "    in detections]\n",
        "annotated_frame = box_annotator.annotate(scene=image.copy(), detections=detections, labels=labels)\n",
        "\n",
        "\n",
        "%matplotlib inline\n",
        "sv.plot_image(annotated_frame, (16, 16))"
      ]
    },
    {
      "cell_type": "markdown",
      "metadata": {
        "id": "bSmZ7VNTGNi_"
      },
      "source": [
        "**NOTE:** We can see that the quality of detection has improved. In particular, when it comes to the `chair` class."
      ]
    },
    {
      "cell_type": "markdown",
      "metadata": {
        "id": "Panf8Zv_TzCG"
      },
      "source": [
        "## Utils Supporting Dataset Processing\n",
        "\n",
        "A couple of helper functions that, unfortunately, we have to write ourselves to facilitate the processing of COCO annotations."
      ]
    },
    {
      "cell_type": "code",
      "execution_count": null,
      "metadata": {
        "colab": {
          "background_save": true
        },
        "id": "B6BrpbA0T5JJ"
      },
      "outputs": [],
      "source": [
        "import numpy as np\n",
        "from dataclasses import dataclass\n",
        "from typing import List, Tuple, Union, Optional\n",
        "from dataclasses_json import dataclass_json\n",
        "from supervision import Detections\n",
        "import matplotlib.pyplot as plt\n",
        "\n",
        "\n",
        "@dataclass_json\n",
        "@dataclass\n",
        "class COCOCategory:\n",
        "    id: int\n",
        "    name: str\n",
        "    supercategory: str\n",
        "\n",
        "\n",
        "@dataclass_json\n",
        "@dataclass\n",
        "class COCOImage:\n",
        "    id: int\n",
        "    width: int\n",
        "    height: int\n",
        "    file_name: str\n",
        "    license: int\n",
        "    date_captured: str\n",
        "    coco_url: Optional[str] = None\n",
        "    flickr_url: Optional[str] = None\n",
        "\n",
        "\n",
        "@dataclass_json\n",
        "@dataclass\n",
        "class COCOAnnotation:\n",
        "    id: int\n",
        "    image_id: int\n",
        "    category_id: int\n",
        "    segmentation: List[List[float]]\n",
        "    area: float\n",
        "    bbox: Tuple[float, float, float, float]\n",
        "    iscrowd: int\n",
        "\n",
        "\n",
        "@dataclass_json\n",
        "@dataclass\n",
        "class COCOLicense:\n",
        "    id: int\n",
        "    name: str\n",
        "    url: str\n",
        "\n",
        "\n",
        "@dataclass_json\n",
        "@dataclass\n",
        "class COCOJson:\n",
        "    images: List[COCOImage]\n",
        "    annotations: List[COCOAnnotation]\n",
        "    categories: List[COCOCategory]\n",
        "    licenses: List[COCOLicense]\n",
        "\n",
        "\n",
        "def load_coco_json(json_file: str) -> COCOJson:\n",
        "    import json\n",
        "\n",
        "    with open(json_file, \"r\") as f:\n",
        "        json_data = json.load(f)\n",
        "\n",
        "    return COCOJson.from_dict(json_data)\n",
        "\n",
        "\n",
        "class COCOJsonUtility:\n",
        "    @staticmethod\n",
        "    def get_annotations_by_image_id(coco_data: COCOJson, image_id: int) -> List[COCOAnnotation]:\n",
        "        return [annotation for annotation in coco_data.annotations if annotation.image_id == image_id]\n",
        "\n",
        "    @staticmethod\n",
        "    def get_annotations_by_image_path(coco_data: COCOJson, image_path: str) -> Optional[List[COCOAnnotation]]:\n",
        "        image = COCOJsonUtility.get_image_by_path(coco_data, image_path)\n",
        "        if image:\n",
        "            return COCOJsonUtility.get_annotations_by_image_id(coco_data, image.id)\n",
        "        else:\n",
        "            return None\n",
        "\n",
        "    @staticmethod\n",
        "    def get_image_by_path(coco_data: COCOJson, image_path: str) -> Optional[COCOImage]:\n",
        "        for image in coco_data.images:\n",
        "            if image.file_name == image_path:\n",
        "                return image\n",
        "        return None\n",
        "\n",
        "    @staticmethod\n",
        "    def annotations2detections(annotations: List[COCOAnnotation]) -> Detections:\n",
        "        class_id, xyxy = [], []\n",
        "\n",
        "        for annotation in annotations:\n",
        "            x_min, y_min, width, height = annotation.bbox\n",
        "            class_id.append(annotation.category_id)\n",
        "            xyxy.append([\n",
        "                x_min,\n",
        "                y_min,\n",
        "                x_min + width,\n",
        "                y_min + height\n",
        "            ])\n",
        "\n",
        "        return Detections(\n",
        "            xyxy=np.array(xyxy, dtype=int),\n",
        "            class_id=np.array(class_id, dtype=int)\n",
        "        )"
      ]
    },
    {
      "cell_type": "markdown",
      "metadata": {
        "id": "cqfverskTUDC"
      },
      "source": [
        "## Download Dataset from Roboflow\n",
        "\n",
        "In order to evaluate how Grounding DINO handles zero-shot detection on custom datasets, we need to have labeled data. To do this, we download the data set in `COCO` format from Roboflow. In order to give you even more fun, we have selected for you several data sets with different levels of difficulty. Grounding DINO obtains mAPs on them from `1.0` to almost `0.0`."
      ]
    },
    {
      "cell_type": "code",
      "execution_count": null,
      "metadata": {
        "colab": {
          "background_save": true
        },
        "id": "aRHRcyEOgapP"
      },
      "outputs": [],
      "source": [
        "%cd {HOME}\n",
        "\n",
        "import roboflow\n",
        "from roboflow import Roboflow\n",
        "\n",
        "roboflow.login()\n",
        "\n",
        "rf = Roboflow()\n",
        "\n",
        "# candies mAP = 1.0\n",
        "project = rf.workspace(\"roboflow-jvuqo\").project(\"chocolate-candy\")\n",
        "dataset = project.version(3).download(\"coco\")\n",
        "\n",
        "# termal mAP = 0.42\n",
        "# project = rf.workspace(\"antor-abir\").project(\"thermal-dogs-and-people-pn8xg\")\n",
        "# dataset = project.version(1).download(\"coco\")\n",
        "\n",
        "# flowers mAP = 0.08\n",
        "# project = rf.workspace(\"plantrecognition-kd7na\").project(\"plant-recognition-wbhud\")\n",
        "# dataset = project.version(2).download(\"coco\")\n",
        "\n",
        "# aquarium mAP = 0.17\n",
        "# project = rf.workspace(\"brad-dwyer\").project(\"aquarium-combined\")\n",
        "# dataset = project.version(5).download(\"coco\")"
      ]
    },
    {
      "cell_type": "code",
      "execution_count": null,
      "metadata": {
        "colab": {
          "background_save": true
        },
        "id": "9zstBm69nDAw"
      },
      "outputs": [],
      "source": [
        "import os\n",
        "\n",
        "DATA_SET_SUBDIRECTORY = \"test\"\n",
        "ANNOTATIONS_FILE_NAME = \"_annotations.coco.json\"\n",
        "IMAGES_DIRECTORY_PATH = os.path.join(dataset.location, DATA_SET_SUBDIRECTORY)\n",
        "ANNOTATIONS_FILE_PATH = os.path.join(dataset.location, DATA_SET_SUBDIRECTORY, ANNOTATIONS_FILE_NAME)"
      ]
    },
    {
      "cell_type": "code",
      "execution_count": null,
      "metadata": {
        "colab": {
          "background_save": true
        },
        "id": "GAFczD6gVOat"
      },
      "outputs": [],
      "source": [
        "coco_data = load_coco_json(json_file=ANNOTATIONS_FILE_PATH)\n",
        "\n",
        "CLASSES = [\n",
        "    category.name\n",
        "    for category\n",
        "    in coco_data.categories\n",
        "    if category.supercategory != 'none'\n",
        "]\n",
        "\n",
        "IMAGES = [\n",
        "    image.file_name\n",
        "    for image\n",
        "    in coco_data.images\n",
        "]"
      ]
    },
    {
      "cell_type": "markdown",
      "metadata": {
        "id": "lPTU1_hoULE4"
      },
      "source": [
        "## Single Image Human vs. Zero-Shot Annotation\n",
        "\n",
        "In this section, we compare the results of inference performed with Grounding DINO with manual annotations. We will choose one random image and then draw side by side automated and manual annotations.  "
      ]
    },
    {
      "cell_type": "code",
      "execution_count": null,
      "metadata": {
        "colab": {
          "background_save": true
        },
        "id": "QfjBFgPIVi8g"
      },
      "outputs": [],
      "source": [
        "# set random seed to allow easy reproduction of the experiment\n",
        "\n",
        "import random\n",
        "random.seed(10)"
      ]
    },
    {
      "cell_type": "markdown",
      "metadata": {
        "id": "Agv-wGWl77aO"
      },
      "source": [
        "**NOTE:** Execute this cell below 👇 once again to select a new random image, run inference with Grounding DINO and compare annotations with predictions."
      ]
    },
    {
      "cell_type": "code",
      "execution_count": null,
      "metadata": {
        "colab": {
          "background_save": true
        },
        "id": "HTMhn_QIs-el"
      },
      "outputs": [],
      "source": [
        "EXAMPLE_IMAGE_NAME = random.choice(IMAGES)\n",
        "EXAMPLE_IMAGE_PATH = os.path.join(dataset.location, DATA_SET_SUBDIRECTORY, EXAMPLE_IMAGE_NAME)\n",
        "\n",
        "# load dataset annotations and image\n",
        "annotations = COCOJsonUtility.get_annotations_by_image_path(coco_data=coco_data, image_path=EXAMPLE_IMAGE_NAME)\n",
        "ground_truth = COCOJsonUtility.annotations2detections(annotations=annotations)\n",
        "\n",
        "# small hack - coco numerate classes from 1, model from 0 + we drop first redundant class from coco json\n",
        "ground_truth.class_id = ground_truth.class_id - 1\n",
        "\n",
        "image = cv2.imread(EXAMPLE_IMAGE_PATH)\n",
        "h, w, _ = image.shape\n",
        "\n",
        "# initiate annotator\n",
        "box_annotator = sv.BoxAnnotator()\n",
        "\n",
        "# annotate image with ground truth\n",
        "labels = [\n",
        "    f\"{CLASSES[class_id]}\"\n",
        "    for _, _, class_id, _\n",
        "    in ground_truth]\n",
        "annotated_frame_ground_truth = box_annotator.annotate(\n",
        "    scene=image.copy(), detections=ground_truth, labels=labels)\n",
        "\n",
        "# run model and annotate image with detections\n",
        "detections = model.predict_with_classes(\n",
        "    image=image,\n",
        "    classes=enhance_class_name(class_names=CLASSES),\n",
        "    box_threshold=BOX_TRESHOLD,\n",
        "    text_threshold=TEXT_TRESHOLD\n",
        ")\n",
        "\n",
        "# drop potential detections with phrase that is not part of CLASSES set\n",
        "detections = detections[detections.class_id != None]\n",
        "# drop potential detections with area close to area of whole image\n",
        "detections = detections[(detections.area / (h * w)) < 0.9 ]\n",
        "# drop potential double detections\n",
        "detections = detections.with_nms()\n",
        "\n",
        "labels = [\n",
        "    f\"{CLASSES[class_id]} {confidence:0.2f}\"\n",
        "    for _, confidence, class_id, _\n",
        "    in detections]\n",
        "annotated_frame = box_annotator.annotate(\n",
        "    scene=image.copy(), detections=detections, labels=labels)\n",
        "\n",
        "\n",
        "%matplotlib inline\n",
        "sv.plot_images_grid(\n",
        "    images=[annotated_frame_ground_truth, annotated_frame],\n",
        "    grid_size=(1, 2),\n",
        "    titles=[\"human annotation\", \"zero-shot annotation\"]\n",
        ")"
      ]
    },
    {
      "cell_type": "markdown",
      "metadata": {
        "id": "7lfOlWexbpve"
      },
      "source": [
        "## Dataset Evaluation\n",
        "\n",
        "In this section, we compare the results obtained with the Grounding DINO model and manual annotations at the whole-dataset level. We will also calculate key metrics like mAP and confusion matrix."
      ]
    },
    {
      "cell_type": "code",
      "execution_count": null,
      "metadata": {
        "colab": {
          "background_save": true
        },
        "id": "TGzSgcSqdoui"
      },
      "outputs": [],
      "source": [
        "from tqdm.notebook import tqdm\n",
        "\n",
        "\n",
        "ground_true_batches, detections_batches = [], []\n",
        "\n",
        "for image in tqdm(coco_data.images):\n",
        "    image_name = image.file_name\n",
        "    image_path = os.path.join(dataset.location, DATA_SET_SUBDIRECTORY, image_name)\n",
        "    annotations = COCOJsonUtility.get_annotations_by_image_path(coco_data=coco_data, image_path=image_name)\n",
        "    try:\n",
        "        ground_truth = COCOJsonUtility.annotations2detections(annotations=annotations)\n",
        "    except:\n",
        "        ground_truth = Detections(\n",
        "            xyxy=np.empty((0, 4), dtype=np.float32),\n",
        "            confidence=np.array([], dtype=np.float32),\n",
        "            class_id=np.array([], dtype=int)\n",
        "        )\n",
        "\n",
        "    # small hack - coco numerate classes from 1, model from 0\n",
        "    ground_truth.class_id = ground_truth.class_id - 1\n",
        "\n",
        "    ground_true_batch = np.column_stack((\n",
        "        ground_truth.xyxy,\n",
        "        ground_truth.class_id\n",
        "    ))\n",
        "    image = cv2.imread(image_path)\n",
        "    detections = model.predict_with_classes(\n",
        "        image=image,\n",
        "        classes=enhance_class_name(class_names=CLASSES),\n",
        "        box_threshold=BOX_TRESHOLD,\n",
        "        text_threshold=TEXT_TRESHOLD\n",
        "    )\n",
        "\n",
        "    # drop potential detections with phrase that is not part of CLASSES set\n",
        "    detections = detections[detections.class_id != None]\n",
        "    # drop potential detections with area close to area of whole image\n",
        "    detections = detections[(detections.area / (h * w)) < 0.9 ]\n",
        "    # drop potential double detections\n",
        "    detections = detections.with_nms()\n",
        "\n",
        "    detections_batch = np.column_stack((\n",
        "        detections.xyxy,\n",
        "        detections.class_id,\n",
        "        detections.confidence\n",
        "    ))\n",
        "    ground_true_batches.append(ground_true_batch)\n",
        "    detections_batches.append(detections_batch)"
      ]
    },
    {
      "cell_type": "code",
      "execution_count": null,
      "metadata": {
        "colab": {
          "background_save": true
        },
        "id": "2kCGbd3wedw9"
      },
      "outputs": [],
      "source": [
        "from onemetric.cv.object_detection import MeanAveragePrecision\n",
        "from onemetric.cv.object_detection import ConfusionMatrix"
      ]
    },
    {
      "cell_type": "code",
      "execution_count": null,
      "metadata": {
        "colab": {
          "background_save": true
        },
        "id": "sN5THqrWgK0k"
      },
      "outputs": [],
      "source": [
        "mean_average_precision = MeanAveragePrecision.from_detections(\n",
        "    true_batches=ground_true_batches,\n",
        "    detection_batches=detections_batches,\n",
        "    num_classes=len(CLASSES),\n",
        "    iou_threshold=0.5\n",
        ")\n",
        "\n",
        "print(\"mAP =\", mean_average_precision.value)"
      ]
    },
    {
      "cell_type": "code",
      "execution_count": null,
      "metadata": {
        "colab": {
          "background_save": true
        },
        "id": "zaiDiz0XgazX"
      },
      "outputs": [],
      "source": [
        "confusion_matrix = ConfusionMatrix.from_detections(\n",
        "    true_batches=ground_true_batches,\n",
        "    detection_batches=detections_batches,\n",
        "    num_classes=len(CLASSES),\n",
        "    conf_threshold=BOX_TRESHOLD\n",
        ")"
      ]
    },
    {
      "cell_type": "code",
      "execution_count": null,
      "metadata": {
        "colab": {
          "background_save": true
        },
        "id": "ZHKyMLJego0U"
      },
      "outputs": [],
      "source": [
        "confusion_matrix.plot(os.path.join(HOME, \"confusion_matrix.png\"), class_names=CLASSES)"
      ]
    },
    {
      "cell_type": "markdown",
      "metadata": {
        "id": "cACSCPRvC_nn"
      },
      "source": [
        "## Dataset auto annotation"
      ]
    },
    {
      "cell_type": "code",
      "execution_count": null,
      "metadata": {
        "colab": {
          "background_save": true
        },
        "id": "FWOf43q-kyzk"
      },
      "outputs": [],
      "source": [
        "import os\n",
        "\n",
        "\n",
        "def list_image_files(directory: str) -> List[str]:\n",
        "    image_extensions = [\".jpeg\", \".jpg\", \".png\", \".bmp\", \".gif\"]\n",
        "    image_files = [f for f in os.listdir(directory) if os.path.splitext(f)[1].lower() in image_extensions]\n",
        "    return image_files\n",
        "\n",
        "\n",
        "def save_voc_xml(xml_string: str, file_path: str) -> None:\n",
        "    with open(file_path, 'w') as f:\n",
        "        f.write(xml_string)\n",
        "\n",
        "\n",
        "def image_name_to_xml_name(image_name: str) -> str:\n",
        "    base_name, _ = os.path.splitext(image_name)\n",
        "    xml_name = f\"{base_name}.xml\"\n",
        "    return xml_name"
      ]
    },
    {
      "cell_type": "markdown",
      "metadata": {
        "id": "pNjq9e1BFUbU"
      },
      "source": [
        "### Create empty Roboflow project"
      ]
    },
    {
      "cell_type": "code",
      "execution_count": null,
      "metadata": {
        "colab": {
          "background_save": true
        },
        "id": "gQOBRvTKFj6h"
      },
      "outputs": [],
      "source": [
        "#Defining our project in Roboflow, definig the different classes that we have (In this case only rat)\n",
        "\n",
        "import os\n",
        "\n",
        "PROJECT_NAME = \"rats\"\n",
        "PROJECT_DESCRIPTION = \"everything-and-nothing\"\n",
        "SOURCE_DIRECTORY_PATH = os.path.join(HOME, \"data\")\n",
        "CLASSES = ['rat']\n",
        "BOX_TRESHOLD = 0.35\n",
        "TEXT_TRESHOLD = 0.35"
      ]
    },
    {
      "cell_type": "code",
      "execution_count": null,
      "metadata": {
        "colab": {
          "background_save": true
        },
        "id": "8_kXVcHVE7m3"
      },
      "outputs": [],
      "source": [
        "#Setting the kind of project that we are creating: object-detection and creating it\n",
        "\n",
        "from roboflow import Roboflow\n",
        "\n",
        "workspace = Roboflow().workspace()\n",
        "new_project = workspace.create_project(\n",
        "    project_name=PROJECT_NAME,\n",
        "    project_license=\"MIT\",\n",
        "    project_type=\"object-detection\",\n",
        "    annotation=PROJECT_DESCRIPTION)"
      ]
    },
    {
      "cell_type": "markdown",
      "metadata": {
        "id": "7I_QWP6nq1I7"
      },
      "source": [
        "### Detect and Upload Annotations to New Project\n",
        "\n",
        "Finally, how about putting Grounding DINO in front of a real test and using it to automatically annotate datasets. Labels will be sent to Roboflow where you can manually review them."
      ]
    },
    {
      "cell_type": "code",
      "execution_count": null,
      "metadata": {
        "colab": {
          "background_save": true
        },
        "id": "J1gNlMDaLTIF"
      },
      "outputs": [],
      "source": [
        "#In this cell we are uploading our images already labeled to our roboflow project that we just created above.\n",
        "\n",
        "from os import listdir\n",
        "\n",
        "\n",
        "for image_name in list_image_files(SOURCE_DIRECTORY_PATH):\n",
        "    image_path = os.path.join(SOURCE_DIRECTORY_PATH, image_name)\n",
        "    image = cv2.imread(image_path)\n",
        "    height, width, depth = image.shape\n",
        "    xml_name = image_name_to_xml_name(image_name=image_name)\n",
        "    xml_path = os.path.join(SOURCE_DIRECTORY_PATH, xml_name)\n",
        "\n",
        "    detections = model.predict_with_classes(\n",
        "        image=image,\n",
        "        classes=enhance_class_name(class_names=CLASSES),\n",
        "        box_threshold=BOX_TRESHOLD,\n",
        "        text_threshold=TEXT_TRESHOLD\n",
        "    )\n",
        "\n",
        "    # drop potential detections with phrase that is not part of CLASSES set\n",
        "    detections = detections[detections.class_id != None]\n",
        "    # drop potential detections with area close to area of whole image\n",
        "    detections = detections[(detections.area / (height * width)) < 0.9 ]\n",
        "    # drop potential double detections\n",
        "    detections = detections.with_nms()\n",
        "\n",
        "    xml_string = sv.detections_to_voc_xml(\n",
        "        detections=detections,\n",
        "        classes=CLASSES,\n",
        "        filename=image_name,\n",
        "        width=width,\n",
        "        height=height,\n",
        "        depth=depth\n",
        "    )\n",
        "\n",
        "    save_voc_xml(xml_string=xml_string, file_path=xml_path)\n",
        "    new_project.upload(image_path=image_path, annotation_path=xml_path, split=\"train\", overwrite=True)"
      ]
    },
    {
      "cell_type": "markdown",
      "metadata": {
        "id": "gLhyd8LJwmnb"
      },
      "source": [
        "## 🏆 Congratulations\n",
        "\n",
        "### Learning Resources\n",
        "\n",
        "Roboflow has produced many resources that you may find interesting as you advance your knowledge of computer vision:\n",
        "\n",
        "- [Roboflow Notebooks](https://github.com/roboflow/notebooks): A repository of over 20 notebooks that walk through how to train custom models with a range of model types, from YOLOv7 to SegFormer.\n",
        "- [Roboflow YouTube](https://www.youtube.com/c/Roboflow): Our library of videos featuring deep dives into the latest in computer vision, detailed tutorials that accompany our notebooks, and more.\n",
        "- [Roboflow Discuss](https://discuss.roboflow.com/): Have a question about how to do something on Roboflow? Ask your question on our discussion forum.\n",
        "- [Roboflow Models](https://roboflow.com): Learn about state-of-the-art models and their performance. Find links and tutorials to guide your learning.\n",
        "\n",
        "### Convert data formats\n",
        "\n",
        "Roboflow provides free utilities to convert data between dozens of popular computer vision formats. Check out [Roboflow Formats](https://roboflow.com/formats) to find tutorials on how to convert data between formats in a few clicks.\n",
        "\n",
        "### Connect computer vision to your project logic\n",
        "\n",
        "[Roboflow Templates](https://roboflow.com/templates) is a public gallery of code snippets that you can use to connect computer vision to your project logic. Code snippets range from sending emails after inference to measuring object distance between detections."
      ]
    }
  ],
  "metadata": {
    "accelerator": "GPU",
    "colab": {
      "gpuType": "T4",
      "provenance": [],
      "toc_visible": true
    },
    "kernelspec": {
      "display_name": "Python 3",
      "name": "python3"
    },
    "language_info": {
      "name": "python"
    },
    "widgets": {
      "application/vnd.jupyter.widget-state+json": {
        "e9b780f643db4b78ac9ed23c7d30c7fc": {
          "model_module": "@jupyter-widgets/controls",
          "model_name": "HBoxModel",
          "model_module_version": "1.5.0",
          "state": {
            "_dom_classes": [],
            "_model_module": "@jupyter-widgets/controls",
            "_model_module_version": "1.5.0",
            "_model_name": "HBoxModel",
            "_view_count": null,
            "_view_module": "@jupyter-widgets/controls",
            "_view_module_version": "1.5.0",
            "_view_name": "HBoxView",
            "box_style": "",
            "children": [
              "IPY_MODEL_3f6d5ada72294f60a54d25b07f59eb53",
              "IPY_MODEL_2831f1e1f7f34051b3f7c40eac38a9f3",
              "IPY_MODEL_a0a32ebee4614c7799743a86febfd578"
            ],
            "layout": "IPY_MODEL_88397cba81784d7fa1eb67d73fd7b5cc"
          }
        },
        "3f6d5ada72294f60a54d25b07f59eb53": {
          "model_module": "@jupyter-widgets/controls",
          "model_name": "HTMLModel",
          "model_module_version": "1.5.0",
          "state": {
            "_dom_classes": [],
            "_model_module": "@jupyter-widgets/controls",
            "_model_module_version": "1.5.0",
            "_model_name": "HTMLModel",
            "_view_count": null,
            "_view_module": "@jupyter-widgets/controls",
            "_view_module_version": "1.5.0",
            "_view_name": "HTMLView",
            "description": "",
            "description_tooltip": null,
            "layout": "IPY_MODEL_271c9ca14c824e908e7c52ffadee33d4",
            "placeholder": "​",
            "style": "IPY_MODEL_69922cad826b4ab8b670abdaba5acbf2",
            "value": "tokenizer_config.json: 100%"
          }
        },
        "2831f1e1f7f34051b3f7c40eac38a9f3": {
          "model_module": "@jupyter-widgets/controls",
          "model_name": "FloatProgressModel",
          "model_module_version": "1.5.0",
          "state": {
            "_dom_classes": [],
            "_model_module": "@jupyter-widgets/controls",
            "_model_module_version": "1.5.0",
            "_model_name": "FloatProgressModel",
            "_view_count": null,
            "_view_module": "@jupyter-widgets/controls",
            "_view_module_version": "1.5.0",
            "_view_name": "ProgressView",
            "bar_style": "success",
            "description": "",
            "description_tooltip": null,
            "layout": "IPY_MODEL_02b1928331a145429b1173badeb494d7",
            "max": 48,
            "min": 0,
            "orientation": "horizontal",
            "style": "IPY_MODEL_ed8ededaadaa4273a12d26dcf172077b",
            "value": 48
          }
        },
        "a0a32ebee4614c7799743a86febfd578": {
          "model_module": "@jupyter-widgets/controls",
          "model_name": "HTMLModel",
          "model_module_version": "1.5.0",
          "state": {
            "_dom_classes": [],
            "_model_module": "@jupyter-widgets/controls",
            "_model_module_version": "1.5.0",
            "_model_name": "HTMLModel",
            "_view_count": null,
            "_view_module": "@jupyter-widgets/controls",
            "_view_module_version": "1.5.0",
            "_view_name": "HTMLView",
            "description": "",
            "description_tooltip": null,
            "layout": "IPY_MODEL_3415c09331294c0a871b0fdf4ddcaab6",
            "placeholder": "​",
            "style": "IPY_MODEL_41fd5aad56924a039693b97ba0967c7a",
            "value": " 48.0/48.0 [00:00&lt;00:00, 2.96kB/s]"
          }
        },
        "88397cba81784d7fa1eb67d73fd7b5cc": {
          "model_module": "@jupyter-widgets/base",
          "model_name": "LayoutModel",
          "model_module_version": "1.2.0",
          "state": {
            "_model_module": "@jupyter-widgets/base",
            "_model_module_version": "1.2.0",
            "_model_name": "LayoutModel",
            "_view_count": null,
            "_view_module": "@jupyter-widgets/base",
            "_view_module_version": "1.2.0",
            "_view_name": "LayoutView",
            "align_content": null,
            "align_items": null,
            "align_self": null,
            "border": null,
            "bottom": null,
            "display": null,
            "flex": null,
            "flex_flow": null,
            "grid_area": null,
            "grid_auto_columns": null,
            "grid_auto_flow": null,
            "grid_auto_rows": null,
            "grid_column": null,
            "grid_gap": null,
            "grid_row": null,
            "grid_template_areas": null,
            "grid_template_columns": null,
            "grid_template_rows": null,
            "height": null,
            "justify_content": null,
            "justify_items": null,
            "left": null,
            "margin": null,
            "max_height": null,
            "max_width": null,
            "min_height": null,
            "min_width": null,
            "object_fit": null,
            "object_position": null,
            "order": null,
            "overflow": null,
            "overflow_x": null,
            "overflow_y": null,
            "padding": null,
            "right": null,
            "top": null,
            "visibility": null,
            "width": null
          }
        },
        "271c9ca14c824e908e7c52ffadee33d4": {
          "model_module": "@jupyter-widgets/base",
          "model_name": "LayoutModel",
          "model_module_version": "1.2.0",
          "state": {
            "_model_module": "@jupyter-widgets/base",
            "_model_module_version": "1.2.0",
            "_model_name": "LayoutModel",
            "_view_count": null,
            "_view_module": "@jupyter-widgets/base",
            "_view_module_version": "1.2.0",
            "_view_name": "LayoutView",
            "align_content": null,
            "align_items": null,
            "align_self": null,
            "border": null,
            "bottom": null,
            "display": null,
            "flex": null,
            "flex_flow": null,
            "grid_area": null,
            "grid_auto_columns": null,
            "grid_auto_flow": null,
            "grid_auto_rows": null,
            "grid_column": null,
            "grid_gap": null,
            "grid_row": null,
            "grid_template_areas": null,
            "grid_template_columns": null,
            "grid_template_rows": null,
            "height": null,
            "justify_content": null,
            "justify_items": null,
            "left": null,
            "margin": null,
            "max_height": null,
            "max_width": null,
            "min_height": null,
            "min_width": null,
            "object_fit": null,
            "object_position": null,
            "order": null,
            "overflow": null,
            "overflow_x": null,
            "overflow_y": null,
            "padding": null,
            "right": null,
            "top": null,
            "visibility": null,
            "width": null
          }
        },
        "69922cad826b4ab8b670abdaba5acbf2": {
          "model_module": "@jupyter-widgets/controls",
          "model_name": "DescriptionStyleModel",
          "model_module_version": "1.5.0",
          "state": {
            "_model_module": "@jupyter-widgets/controls",
            "_model_module_version": "1.5.0",
            "_model_name": "DescriptionStyleModel",
            "_view_count": null,
            "_view_module": "@jupyter-widgets/base",
            "_view_module_version": "1.2.0",
            "_view_name": "StyleView",
            "description_width": ""
          }
        },
        "02b1928331a145429b1173badeb494d7": {
          "model_module": "@jupyter-widgets/base",
          "model_name": "LayoutModel",
          "model_module_version": "1.2.0",
          "state": {
            "_model_module": "@jupyter-widgets/base",
            "_model_module_version": "1.2.0",
            "_model_name": "LayoutModel",
            "_view_count": null,
            "_view_module": "@jupyter-widgets/base",
            "_view_module_version": "1.2.0",
            "_view_name": "LayoutView",
            "align_content": null,
            "align_items": null,
            "align_self": null,
            "border": null,
            "bottom": null,
            "display": null,
            "flex": null,
            "flex_flow": null,
            "grid_area": null,
            "grid_auto_columns": null,
            "grid_auto_flow": null,
            "grid_auto_rows": null,
            "grid_column": null,
            "grid_gap": null,
            "grid_row": null,
            "grid_template_areas": null,
            "grid_template_columns": null,
            "grid_template_rows": null,
            "height": null,
            "justify_content": null,
            "justify_items": null,
            "left": null,
            "margin": null,
            "max_height": null,
            "max_width": null,
            "min_height": null,
            "min_width": null,
            "object_fit": null,
            "object_position": null,
            "order": null,
            "overflow": null,
            "overflow_x": null,
            "overflow_y": null,
            "padding": null,
            "right": null,
            "top": null,
            "visibility": null,
            "width": null
          }
        },
        "ed8ededaadaa4273a12d26dcf172077b": {
          "model_module": "@jupyter-widgets/controls",
          "model_name": "ProgressStyleModel",
          "model_module_version": "1.5.0",
          "state": {
            "_model_module": "@jupyter-widgets/controls",
            "_model_module_version": "1.5.0",
            "_model_name": "ProgressStyleModel",
            "_view_count": null,
            "_view_module": "@jupyter-widgets/base",
            "_view_module_version": "1.2.0",
            "_view_name": "StyleView",
            "bar_color": null,
            "description_width": ""
          }
        },
        "3415c09331294c0a871b0fdf4ddcaab6": {
          "model_module": "@jupyter-widgets/base",
          "model_name": "LayoutModel",
          "model_module_version": "1.2.0",
          "state": {
            "_model_module": "@jupyter-widgets/base",
            "_model_module_version": "1.2.0",
            "_model_name": "LayoutModel",
            "_view_count": null,
            "_view_module": "@jupyter-widgets/base",
            "_view_module_version": "1.2.0",
            "_view_name": "LayoutView",
            "align_content": null,
            "align_items": null,
            "align_self": null,
            "border": null,
            "bottom": null,
            "display": null,
            "flex": null,
            "flex_flow": null,
            "grid_area": null,
            "grid_auto_columns": null,
            "grid_auto_flow": null,
            "grid_auto_rows": null,
            "grid_column": null,
            "grid_gap": null,
            "grid_row": null,
            "grid_template_areas": null,
            "grid_template_columns": null,
            "grid_template_rows": null,
            "height": null,
            "justify_content": null,
            "justify_items": null,
            "left": null,
            "margin": null,
            "max_height": null,
            "max_width": null,
            "min_height": null,
            "min_width": null,
            "object_fit": null,
            "object_position": null,
            "order": null,
            "overflow": null,
            "overflow_x": null,
            "overflow_y": null,
            "padding": null,
            "right": null,
            "top": null,
            "visibility": null,
            "width": null
          }
        },
        "41fd5aad56924a039693b97ba0967c7a": {
          "model_module": "@jupyter-widgets/controls",
          "model_name": "DescriptionStyleModel",
          "model_module_version": "1.5.0",
          "state": {
            "_model_module": "@jupyter-widgets/controls",
            "_model_module_version": "1.5.0",
            "_model_name": "DescriptionStyleModel",
            "_view_count": null,
            "_view_module": "@jupyter-widgets/base",
            "_view_module_version": "1.2.0",
            "_view_name": "StyleView",
            "description_width": ""
          }
        },
        "fe04348e8aba4f959f0dadacae7947b8": {
          "model_module": "@jupyter-widgets/controls",
          "model_name": "HBoxModel",
          "model_module_version": "1.5.0",
          "state": {
            "_dom_classes": [],
            "_model_module": "@jupyter-widgets/controls",
            "_model_module_version": "1.5.0",
            "_model_name": "HBoxModel",
            "_view_count": null,
            "_view_module": "@jupyter-widgets/controls",
            "_view_module_version": "1.5.0",
            "_view_name": "HBoxView",
            "box_style": "",
            "children": [
              "IPY_MODEL_76e40922403149de93326896c28d754c",
              "IPY_MODEL_a28f264aa6514603bcb18223f51edf73",
              "IPY_MODEL_4fde723c563849c9bd57cfc6021746d5"
            ],
            "layout": "IPY_MODEL_b5d23f2ab6d946a6a9ef6be2a83aaaab"
          }
        },
        "76e40922403149de93326896c28d754c": {
          "model_module": "@jupyter-widgets/controls",
          "model_name": "HTMLModel",
          "model_module_version": "1.5.0",
          "state": {
            "_dom_classes": [],
            "_model_module": "@jupyter-widgets/controls",
            "_model_module_version": "1.5.0",
            "_model_name": "HTMLModel",
            "_view_count": null,
            "_view_module": "@jupyter-widgets/controls",
            "_view_module_version": "1.5.0",
            "_view_name": "HTMLView",
            "description": "",
            "description_tooltip": null,
            "layout": "IPY_MODEL_7a7829c47092424a93b8b9c6f184dc5a",
            "placeholder": "​",
            "style": "IPY_MODEL_8657e61576404ef0aed56c9e5b6fd5f2",
            "value": "config.json: 100%"
          }
        },
        "a28f264aa6514603bcb18223f51edf73": {
          "model_module": "@jupyter-widgets/controls",
          "model_name": "FloatProgressModel",
          "model_module_version": "1.5.0",
          "state": {
            "_dom_classes": [],
            "_model_module": "@jupyter-widgets/controls",
            "_model_module_version": "1.5.0",
            "_model_name": "FloatProgressModel",
            "_view_count": null,
            "_view_module": "@jupyter-widgets/controls",
            "_view_module_version": "1.5.0",
            "_view_name": "ProgressView",
            "bar_style": "success",
            "description": "",
            "description_tooltip": null,
            "layout": "IPY_MODEL_b7e761ee990c422a859482234faba817",
            "max": 570,
            "min": 0,
            "orientation": "horizontal",
            "style": "IPY_MODEL_a9ff97866b6d4a849fdd0f7917807abf",
            "value": 570
          }
        },
        "4fde723c563849c9bd57cfc6021746d5": {
          "model_module": "@jupyter-widgets/controls",
          "model_name": "HTMLModel",
          "model_module_version": "1.5.0",
          "state": {
            "_dom_classes": [],
            "_model_module": "@jupyter-widgets/controls",
            "_model_module_version": "1.5.0",
            "_model_name": "HTMLModel",
            "_view_count": null,
            "_view_module": "@jupyter-widgets/controls",
            "_view_module_version": "1.5.0",
            "_view_name": "HTMLView",
            "description": "",
            "description_tooltip": null,
            "layout": "IPY_MODEL_f7127a4823694060a3468cc626f8c9af",
            "placeholder": "​",
            "style": "IPY_MODEL_b019dd79ea24430aac303802c0476748",
            "value": " 570/570 [00:00&lt;00:00, 43.4kB/s]"
          }
        },
        "b5d23f2ab6d946a6a9ef6be2a83aaaab": {
          "model_module": "@jupyter-widgets/base",
          "model_name": "LayoutModel",
          "model_module_version": "1.2.0",
          "state": {
            "_model_module": "@jupyter-widgets/base",
            "_model_module_version": "1.2.0",
            "_model_name": "LayoutModel",
            "_view_count": null,
            "_view_module": "@jupyter-widgets/base",
            "_view_module_version": "1.2.0",
            "_view_name": "LayoutView",
            "align_content": null,
            "align_items": null,
            "align_self": null,
            "border": null,
            "bottom": null,
            "display": null,
            "flex": null,
            "flex_flow": null,
            "grid_area": null,
            "grid_auto_columns": null,
            "grid_auto_flow": null,
            "grid_auto_rows": null,
            "grid_column": null,
            "grid_gap": null,
            "grid_row": null,
            "grid_template_areas": null,
            "grid_template_columns": null,
            "grid_template_rows": null,
            "height": null,
            "justify_content": null,
            "justify_items": null,
            "left": null,
            "margin": null,
            "max_height": null,
            "max_width": null,
            "min_height": null,
            "min_width": null,
            "object_fit": null,
            "object_position": null,
            "order": null,
            "overflow": null,
            "overflow_x": null,
            "overflow_y": null,
            "padding": null,
            "right": null,
            "top": null,
            "visibility": null,
            "width": null
          }
        },
        "7a7829c47092424a93b8b9c6f184dc5a": {
          "model_module": "@jupyter-widgets/base",
          "model_name": "LayoutModel",
          "model_module_version": "1.2.0",
          "state": {
            "_model_module": "@jupyter-widgets/base",
            "_model_module_version": "1.2.0",
            "_model_name": "LayoutModel",
            "_view_count": null,
            "_view_module": "@jupyter-widgets/base",
            "_view_module_version": "1.2.0",
            "_view_name": "LayoutView",
            "align_content": null,
            "align_items": null,
            "align_self": null,
            "border": null,
            "bottom": null,
            "display": null,
            "flex": null,
            "flex_flow": null,
            "grid_area": null,
            "grid_auto_columns": null,
            "grid_auto_flow": null,
            "grid_auto_rows": null,
            "grid_column": null,
            "grid_gap": null,
            "grid_row": null,
            "grid_template_areas": null,
            "grid_template_columns": null,
            "grid_template_rows": null,
            "height": null,
            "justify_content": null,
            "justify_items": null,
            "left": null,
            "margin": null,
            "max_height": null,
            "max_width": null,
            "min_height": null,
            "min_width": null,
            "object_fit": null,
            "object_position": null,
            "order": null,
            "overflow": null,
            "overflow_x": null,
            "overflow_y": null,
            "padding": null,
            "right": null,
            "top": null,
            "visibility": null,
            "width": null
          }
        },
        "8657e61576404ef0aed56c9e5b6fd5f2": {
          "model_module": "@jupyter-widgets/controls",
          "model_name": "DescriptionStyleModel",
          "model_module_version": "1.5.0",
          "state": {
            "_model_module": "@jupyter-widgets/controls",
            "_model_module_version": "1.5.0",
            "_model_name": "DescriptionStyleModel",
            "_view_count": null,
            "_view_module": "@jupyter-widgets/base",
            "_view_module_version": "1.2.0",
            "_view_name": "StyleView",
            "description_width": ""
          }
        },
        "b7e761ee990c422a859482234faba817": {
          "model_module": "@jupyter-widgets/base",
          "model_name": "LayoutModel",
          "model_module_version": "1.2.0",
          "state": {
            "_model_module": "@jupyter-widgets/base",
            "_model_module_version": "1.2.0",
            "_model_name": "LayoutModel",
            "_view_count": null,
            "_view_module": "@jupyter-widgets/base",
            "_view_module_version": "1.2.0",
            "_view_name": "LayoutView",
            "align_content": null,
            "align_items": null,
            "align_self": null,
            "border": null,
            "bottom": null,
            "display": null,
            "flex": null,
            "flex_flow": null,
            "grid_area": null,
            "grid_auto_columns": null,
            "grid_auto_flow": null,
            "grid_auto_rows": null,
            "grid_column": null,
            "grid_gap": null,
            "grid_row": null,
            "grid_template_areas": null,
            "grid_template_columns": null,
            "grid_template_rows": null,
            "height": null,
            "justify_content": null,
            "justify_items": null,
            "left": null,
            "margin": null,
            "max_height": null,
            "max_width": null,
            "min_height": null,
            "min_width": null,
            "object_fit": null,
            "object_position": null,
            "order": null,
            "overflow": null,
            "overflow_x": null,
            "overflow_y": null,
            "padding": null,
            "right": null,
            "top": null,
            "visibility": null,
            "width": null
          }
        },
        "a9ff97866b6d4a849fdd0f7917807abf": {
          "model_module": "@jupyter-widgets/controls",
          "model_name": "ProgressStyleModel",
          "model_module_version": "1.5.0",
          "state": {
            "_model_module": "@jupyter-widgets/controls",
            "_model_module_version": "1.5.0",
            "_model_name": "ProgressStyleModel",
            "_view_count": null,
            "_view_module": "@jupyter-widgets/base",
            "_view_module_version": "1.2.0",
            "_view_name": "StyleView",
            "bar_color": null,
            "description_width": ""
          }
        },
        "f7127a4823694060a3468cc626f8c9af": {
          "model_module": "@jupyter-widgets/base",
          "model_name": "LayoutModel",
          "model_module_version": "1.2.0",
          "state": {
            "_model_module": "@jupyter-widgets/base",
            "_model_module_version": "1.2.0",
            "_model_name": "LayoutModel",
            "_view_count": null,
            "_view_module": "@jupyter-widgets/base",
            "_view_module_version": "1.2.0",
            "_view_name": "LayoutView",
            "align_content": null,
            "align_items": null,
            "align_self": null,
            "border": null,
            "bottom": null,
            "display": null,
            "flex": null,
            "flex_flow": null,
            "grid_area": null,
            "grid_auto_columns": null,
            "grid_auto_flow": null,
            "grid_auto_rows": null,
            "grid_column": null,
            "grid_gap": null,
            "grid_row": null,
            "grid_template_areas": null,
            "grid_template_columns": null,
            "grid_template_rows": null,
            "height": null,
            "justify_content": null,
            "justify_items": null,
            "left": null,
            "margin": null,
            "max_height": null,
            "max_width": null,
            "min_height": null,
            "min_width": null,
            "object_fit": null,
            "object_position": null,
            "order": null,
            "overflow": null,
            "overflow_x": null,
            "overflow_y": null,
            "padding": null,
            "right": null,
            "top": null,
            "visibility": null,
            "width": null
          }
        },
        "b019dd79ea24430aac303802c0476748": {
          "model_module": "@jupyter-widgets/controls",
          "model_name": "DescriptionStyleModel",
          "model_module_version": "1.5.0",
          "state": {
            "_model_module": "@jupyter-widgets/controls",
            "_model_module_version": "1.5.0",
            "_model_name": "DescriptionStyleModel",
            "_view_count": null,
            "_view_module": "@jupyter-widgets/base",
            "_view_module_version": "1.2.0",
            "_view_name": "StyleView",
            "description_width": ""
          }
        },
        "834796b20bbb4765a5e46c35bd63116a": {
          "model_module": "@jupyter-widgets/controls",
          "model_name": "HBoxModel",
          "model_module_version": "1.5.0",
          "state": {
            "_dom_classes": [],
            "_model_module": "@jupyter-widgets/controls",
            "_model_module_version": "1.5.0",
            "_model_name": "HBoxModel",
            "_view_count": null,
            "_view_module": "@jupyter-widgets/controls",
            "_view_module_version": "1.5.0",
            "_view_name": "HBoxView",
            "box_style": "",
            "children": [
              "IPY_MODEL_2cde26b712a346eda63452e41daabf75",
              "IPY_MODEL_244d462512a0458e8f4d26f016dc4236",
              "IPY_MODEL_2b2b7cc88b9041b89a93e5621767e77b"
            ],
            "layout": "IPY_MODEL_6852c192047340efb3427c25219a89f8"
          }
        },
        "2cde26b712a346eda63452e41daabf75": {
          "model_module": "@jupyter-widgets/controls",
          "model_name": "HTMLModel",
          "model_module_version": "1.5.0",
          "state": {
            "_dom_classes": [],
            "_model_module": "@jupyter-widgets/controls",
            "_model_module_version": "1.5.0",
            "_model_name": "HTMLModel",
            "_view_count": null,
            "_view_module": "@jupyter-widgets/controls",
            "_view_module_version": "1.5.0",
            "_view_name": "HTMLView",
            "description": "",
            "description_tooltip": null,
            "layout": "IPY_MODEL_df50a3e378d94a8883bf49ec2beccecb",
            "placeholder": "​",
            "style": "IPY_MODEL_3ef070c491e34fc4b6993282b8c73197",
            "value": "vocab.txt: 100%"
          }
        },
        "244d462512a0458e8f4d26f016dc4236": {
          "model_module": "@jupyter-widgets/controls",
          "model_name": "FloatProgressModel",
          "model_module_version": "1.5.0",
          "state": {
            "_dom_classes": [],
            "_model_module": "@jupyter-widgets/controls",
            "_model_module_version": "1.5.0",
            "_model_name": "FloatProgressModel",
            "_view_count": null,
            "_view_module": "@jupyter-widgets/controls",
            "_view_module_version": "1.5.0",
            "_view_name": "ProgressView",
            "bar_style": "success",
            "description": "",
            "description_tooltip": null,
            "layout": "IPY_MODEL_f5544f36ebd342758d38d3d88e2578e7",
            "max": 231508,
            "min": 0,
            "orientation": "horizontal",
            "style": "IPY_MODEL_fce3d1865ae64758aec5019e0fa27df5",
            "value": 231508
          }
        },
        "2b2b7cc88b9041b89a93e5621767e77b": {
          "model_module": "@jupyter-widgets/controls",
          "model_name": "HTMLModel",
          "model_module_version": "1.5.0",
          "state": {
            "_dom_classes": [],
            "_model_module": "@jupyter-widgets/controls",
            "_model_module_version": "1.5.0",
            "_model_name": "HTMLModel",
            "_view_count": null,
            "_view_module": "@jupyter-widgets/controls",
            "_view_module_version": "1.5.0",
            "_view_name": "HTMLView",
            "description": "",
            "description_tooltip": null,
            "layout": "IPY_MODEL_2e76c04a99f14bc6969dbe6f4406f663",
            "placeholder": "​",
            "style": "IPY_MODEL_61f2e47e100044e6b8fd03fd564fe560",
            "value": " 232k/232k [00:00&lt;00:00, 1.95MB/s]"
          }
        },
        "6852c192047340efb3427c25219a89f8": {
          "model_module": "@jupyter-widgets/base",
          "model_name": "LayoutModel",
          "model_module_version": "1.2.0",
          "state": {
            "_model_module": "@jupyter-widgets/base",
            "_model_module_version": "1.2.0",
            "_model_name": "LayoutModel",
            "_view_count": null,
            "_view_module": "@jupyter-widgets/base",
            "_view_module_version": "1.2.0",
            "_view_name": "LayoutView",
            "align_content": null,
            "align_items": null,
            "align_self": null,
            "border": null,
            "bottom": null,
            "display": null,
            "flex": null,
            "flex_flow": null,
            "grid_area": null,
            "grid_auto_columns": null,
            "grid_auto_flow": null,
            "grid_auto_rows": null,
            "grid_column": null,
            "grid_gap": null,
            "grid_row": null,
            "grid_template_areas": null,
            "grid_template_columns": null,
            "grid_template_rows": null,
            "height": null,
            "justify_content": null,
            "justify_items": null,
            "left": null,
            "margin": null,
            "max_height": null,
            "max_width": null,
            "min_height": null,
            "min_width": null,
            "object_fit": null,
            "object_position": null,
            "order": null,
            "overflow": null,
            "overflow_x": null,
            "overflow_y": null,
            "padding": null,
            "right": null,
            "top": null,
            "visibility": null,
            "width": null
          }
        },
        "df50a3e378d94a8883bf49ec2beccecb": {
          "model_module": "@jupyter-widgets/base",
          "model_name": "LayoutModel",
          "model_module_version": "1.2.0",
          "state": {
            "_model_module": "@jupyter-widgets/base",
            "_model_module_version": "1.2.0",
            "_model_name": "LayoutModel",
            "_view_count": null,
            "_view_module": "@jupyter-widgets/base",
            "_view_module_version": "1.2.0",
            "_view_name": "LayoutView",
            "align_content": null,
            "align_items": null,
            "align_self": null,
            "border": null,
            "bottom": null,
            "display": null,
            "flex": null,
            "flex_flow": null,
            "grid_area": null,
            "grid_auto_columns": null,
            "grid_auto_flow": null,
            "grid_auto_rows": null,
            "grid_column": null,
            "grid_gap": null,
            "grid_row": null,
            "grid_template_areas": null,
            "grid_template_columns": null,
            "grid_template_rows": null,
            "height": null,
            "justify_content": null,
            "justify_items": null,
            "left": null,
            "margin": null,
            "max_height": null,
            "max_width": null,
            "min_height": null,
            "min_width": null,
            "object_fit": null,
            "object_position": null,
            "order": null,
            "overflow": null,
            "overflow_x": null,
            "overflow_y": null,
            "padding": null,
            "right": null,
            "top": null,
            "visibility": null,
            "width": null
          }
        },
        "3ef070c491e34fc4b6993282b8c73197": {
          "model_module": "@jupyter-widgets/controls",
          "model_name": "DescriptionStyleModel",
          "model_module_version": "1.5.0",
          "state": {
            "_model_module": "@jupyter-widgets/controls",
            "_model_module_version": "1.5.0",
            "_model_name": "DescriptionStyleModel",
            "_view_count": null,
            "_view_module": "@jupyter-widgets/base",
            "_view_module_version": "1.2.0",
            "_view_name": "StyleView",
            "description_width": ""
          }
        },
        "f5544f36ebd342758d38d3d88e2578e7": {
          "model_module": "@jupyter-widgets/base",
          "model_name": "LayoutModel",
          "model_module_version": "1.2.0",
          "state": {
            "_model_module": "@jupyter-widgets/base",
            "_model_module_version": "1.2.0",
            "_model_name": "LayoutModel",
            "_view_count": null,
            "_view_module": "@jupyter-widgets/base",
            "_view_module_version": "1.2.0",
            "_view_name": "LayoutView",
            "align_content": null,
            "align_items": null,
            "align_self": null,
            "border": null,
            "bottom": null,
            "display": null,
            "flex": null,
            "flex_flow": null,
            "grid_area": null,
            "grid_auto_columns": null,
            "grid_auto_flow": null,
            "grid_auto_rows": null,
            "grid_column": null,
            "grid_gap": null,
            "grid_row": null,
            "grid_template_areas": null,
            "grid_template_columns": null,
            "grid_template_rows": null,
            "height": null,
            "justify_content": null,
            "justify_items": null,
            "left": null,
            "margin": null,
            "max_height": null,
            "max_width": null,
            "min_height": null,
            "min_width": null,
            "object_fit": null,
            "object_position": null,
            "order": null,
            "overflow": null,
            "overflow_x": null,
            "overflow_y": null,
            "padding": null,
            "right": null,
            "top": null,
            "visibility": null,
            "width": null
          }
        },
        "fce3d1865ae64758aec5019e0fa27df5": {
          "model_module": "@jupyter-widgets/controls",
          "model_name": "ProgressStyleModel",
          "model_module_version": "1.5.0",
          "state": {
            "_model_module": "@jupyter-widgets/controls",
            "_model_module_version": "1.5.0",
            "_model_name": "ProgressStyleModel",
            "_view_count": null,
            "_view_module": "@jupyter-widgets/base",
            "_view_module_version": "1.2.0",
            "_view_name": "StyleView",
            "bar_color": null,
            "description_width": ""
          }
        },
        "2e76c04a99f14bc6969dbe6f4406f663": {
          "model_module": "@jupyter-widgets/base",
          "model_name": "LayoutModel",
          "model_module_version": "1.2.0",
          "state": {
            "_model_module": "@jupyter-widgets/base",
            "_model_module_version": "1.2.0",
            "_model_name": "LayoutModel",
            "_view_count": null,
            "_view_module": "@jupyter-widgets/base",
            "_view_module_version": "1.2.0",
            "_view_name": "LayoutView",
            "align_content": null,
            "align_items": null,
            "align_self": null,
            "border": null,
            "bottom": null,
            "display": null,
            "flex": null,
            "flex_flow": null,
            "grid_area": null,
            "grid_auto_columns": null,
            "grid_auto_flow": null,
            "grid_auto_rows": null,
            "grid_column": null,
            "grid_gap": null,
            "grid_row": null,
            "grid_template_areas": null,
            "grid_template_columns": null,
            "grid_template_rows": null,
            "height": null,
            "justify_content": null,
            "justify_items": null,
            "left": null,
            "margin": null,
            "max_height": null,
            "max_width": null,
            "min_height": null,
            "min_width": null,
            "object_fit": null,
            "object_position": null,
            "order": null,
            "overflow": null,
            "overflow_x": null,
            "overflow_y": null,
            "padding": null,
            "right": null,
            "top": null,
            "visibility": null,
            "width": null
          }
        },
        "61f2e47e100044e6b8fd03fd564fe560": {
          "model_module": "@jupyter-widgets/controls",
          "model_name": "DescriptionStyleModel",
          "model_module_version": "1.5.0",
          "state": {
            "_model_module": "@jupyter-widgets/controls",
            "_model_module_version": "1.5.0",
            "_model_name": "DescriptionStyleModel",
            "_view_count": null,
            "_view_module": "@jupyter-widgets/base",
            "_view_module_version": "1.2.0",
            "_view_name": "StyleView",
            "description_width": ""
          }
        },
        "2d8c18d334fb497b80ab2fc30ceeca3d": {
          "model_module": "@jupyter-widgets/controls",
          "model_name": "HBoxModel",
          "model_module_version": "1.5.0",
          "state": {
            "_dom_classes": [],
            "_model_module": "@jupyter-widgets/controls",
            "_model_module_version": "1.5.0",
            "_model_name": "HBoxModel",
            "_view_count": null,
            "_view_module": "@jupyter-widgets/controls",
            "_view_module_version": "1.5.0",
            "_view_name": "HBoxView",
            "box_style": "",
            "children": [
              "IPY_MODEL_922e720b10b54a67a320c0bff55c1cbe",
              "IPY_MODEL_82c08dcf42f5432d897618e7384c848d",
              "IPY_MODEL_c61d1e2076ee42c4a8c35fce04a811bc"
            ],
            "layout": "IPY_MODEL_dd55d37bc2fe4fcda6a32c763db9eb40"
          }
        },
        "922e720b10b54a67a320c0bff55c1cbe": {
          "model_module": "@jupyter-widgets/controls",
          "model_name": "HTMLModel",
          "model_module_version": "1.5.0",
          "state": {
            "_dom_classes": [],
            "_model_module": "@jupyter-widgets/controls",
            "_model_module_version": "1.5.0",
            "_model_name": "HTMLModel",
            "_view_count": null,
            "_view_module": "@jupyter-widgets/controls",
            "_view_module_version": "1.5.0",
            "_view_name": "HTMLView",
            "description": "",
            "description_tooltip": null,
            "layout": "IPY_MODEL_64e4245cdd664cd2852a48ca60e6b341",
            "placeholder": "​",
            "style": "IPY_MODEL_1b246c2c9e8c4ece9fdd3ff3cf39c84a",
            "value": "tokenizer.json: 100%"
          }
        },
        "82c08dcf42f5432d897618e7384c848d": {
          "model_module": "@jupyter-widgets/controls",
          "model_name": "FloatProgressModel",
          "model_module_version": "1.5.0",
          "state": {
            "_dom_classes": [],
            "_model_module": "@jupyter-widgets/controls",
            "_model_module_version": "1.5.0",
            "_model_name": "FloatProgressModel",
            "_view_count": null,
            "_view_module": "@jupyter-widgets/controls",
            "_view_module_version": "1.5.0",
            "_view_name": "ProgressView",
            "bar_style": "success",
            "description": "",
            "description_tooltip": null,
            "layout": "IPY_MODEL_59047ffb9a4e422d84f070155380de2f",
            "max": 466062,
            "min": 0,
            "orientation": "horizontal",
            "style": "IPY_MODEL_f617168eadd347848079fb12b66c5d08",
            "value": 466062
          }
        },
        "c61d1e2076ee42c4a8c35fce04a811bc": {
          "model_module": "@jupyter-widgets/controls",
          "model_name": "HTMLModel",
          "model_module_version": "1.5.0",
          "state": {
            "_dom_classes": [],
            "_model_module": "@jupyter-widgets/controls",
            "_model_module_version": "1.5.0",
            "_model_name": "HTMLModel",
            "_view_count": null,
            "_view_module": "@jupyter-widgets/controls",
            "_view_module_version": "1.5.0",
            "_view_name": "HTMLView",
            "description": "",
            "description_tooltip": null,
            "layout": "IPY_MODEL_7a1fd2e974684ee1a32fb97641ada64d",
            "placeholder": "​",
            "style": "IPY_MODEL_f58325fd89f74c079454decee7e7a906",
            "value": " 466k/466k [00:00&lt;00:00, 2.67MB/s]"
          }
        },
        "dd55d37bc2fe4fcda6a32c763db9eb40": {
          "model_module": "@jupyter-widgets/base",
          "model_name": "LayoutModel",
          "model_module_version": "1.2.0",
          "state": {
            "_model_module": "@jupyter-widgets/base",
            "_model_module_version": "1.2.0",
            "_model_name": "LayoutModel",
            "_view_count": null,
            "_view_module": "@jupyter-widgets/base",
            "_view_module_version": "1.2.0",
            "_view_name": "LayoutView",
            "align_content": null,
            "align_items": null,
            "align_self": null,
            "border": null,
            "bottom": null,
            "display": null,
            "flex": null,
            "flex_flow": null,
            "grid_area": null,
            "grid_auto_columns": null,
            "grid_auto_flow": null,
            "grid_auto_rows": null,
            "grid_column": null,
            "grid_gap": null,
            "grid_row": null,
            "grid_template_areas": null,
            "grid_template_columns": null,
            "grid_template_rows": null,
            "height": null,
            "justify_content": null,
            "justify_items": null,
            "left": null,
            "margin": null,
            "max_height": null,
            "max_width": null,
            "min_height": null,
            "min_width": null,
            "object_fit": null,
            "object_position": null,
            "order": null,
            "overflow": null,
            "overflow_x": null,
            "overflow_y": null,
            "padding": null,
            "right": null,
            "top": null,
            "visibility": null,
            "width": null
          }
        },
        "64e4245cdd664cd2852a48ca60e6b341": {
          "model_module": "@jupyter-widgets/base",
          "model_name": "LayoutModel",
          "model_module_version": "1.2.0",
          "state": {
            "_model_module": "@jupyter-widgets/base",
            "_model_module_version": "1.2.0",
            "_model_name": "LayoutModel",
            "_view_count": null,
            "_view_module": "@jupyter-widgets/base",
            "_view_module_version": "1.2.0",
            "_view_name": "LayoutView",
            "align_content": null,
            "align_items": null,
            "align_self": null,
            "border": null,
            "bottom": null,
            "display": null,
            "flex": null,
            "flex_flow": null,
            "grid_area": null,
            "grid_auto_columns": null,
            "grid_auto_flow": null,
            "grid_auto_rows": null,
            "grid_column": null,
            "grid_gap": null,
            "grid_row": null,
            "grid_template_areas": null,
            "grid_template_columns": null,
            "grid_template_rows": null,
            "height": null,
            "justify_content": null,
            "justify_items": null,
            "left": null,
            "margin": null,
            "max_height": null,
            "max_width": null,
            "min_height": null,
            "min_width": null,
            "object_fit": null,
            "object_position": null,
            "order": null,
            "overflow": null,
            "overflow_x": null,
            "overflow_y": null,
            "padding": null,
            "right": null,
            "top": null,
            "visibility": null,
            "width": null
          }
        },
        "1b246c2c9e8c4ece9fdd3ff3cf39c84a": {
          "model_module": "@jupyter-widgets/controls",
          "model_name": "DescriptionStyleModel",
          "model_module_version": "1.5.0",
          "state": {
            "_model_module": "@jupyter-widgets/controls",
            "_model_module_version": "1.5.0",
            "_model_name": "DescriptionStyleModel",
            "_view_count": null,
            "_view_module": "@jupyter-widgets/base",
            "_view_module_version": "1.2.0",
            "_view_name": "StyleView",
            "description_width": ""
          }
        },
        "59047ffb9a4e422d84f070155380de2f": {
          "model_module": "@jupyter-widgets/base",
          "model_name": "LayoutModel",
          "model_module_version": "1.2.0",
          "state": {
            "_model_module": "@jupyter-widgets/base",
            "_model_module_version": "1.2.0",
            "_model_name": "LayoutModel",
            "_view_count": null,
            "_view_module": "@jupyter-widgets/base",
            "_view_module_version": "1.2.0",
            "_view_name": "LayoutView",
            "align_content": null,
            "align_items": null,
            "align_self": null,
            "border": null,
            "bottom": null,
            "display": null,
            "flex": null,
            "flex_flow": null,
            "grid_area": null,
            "grid_auto_columns": null,
            "grid_auto_flow": null,
            "grid_auto_rows": null,
            "grid_column": null,
            "grid_gap": null,
            "grid_row": null,
            "grid_template_areas": null,
            "grid_template_columns": null,
            "grid_template_rows": null,
            "height": null,
            "justify_content": null,
            "justify_items": null,
            "left": null,
            "margin": null,
            "max_height": null,
            "max_width": null,
            "min_height": null,
            "min_width": null,
            "object_fit": null,
            "object_position": null,
            "order": null,
            "overflow": null,
            "overflow_x": null,
            "overflow_y": null,
            "padding": null,
            "right": null,
            "top": null,
            "visibility": null,
            "width": null
          }
        },
        "f617168eadd347848079fb12b66c5d08": {
          "model_module": "@jupyter-widgets/controls",
          "model_name": "ProgressStyleModel",
          "model_module_version": "1.5.0",
          "state": {
            "_model_module": "@jupyter-widgets/controls",
            "_model_module_version": "1.5.0",
            "_model_name": "ProgressStyleModel",
            "_view_count": null,
            "_view_module": "@jupyter-widgets/base",
            "_view_module_version": "1.2.0",
            "_view_name": "StyleView",
            "bar_color": null,
            "description_width": ""
          }
        },
        "7a1fd2e974684ee1a32fb97641ada64d": {
          "model_module": "@jupyter-widgets/base",
          "model_name": "LayoutModel",
          "model_module_version": "1.2.0",
          "state": {
            "_model_module": "@jupyter-widgets/base",
            "_model_module_version": "1.2.0",
            "_model_name": "LayoutModel",
            "_view_count": null,
            "_view_module": "@jupyter-widgets/base",
            "_view_module_version": "1.2.0",
            "_view_name": "LayoutView",
            "align_content": null,
            "align_items": null,
            "align_self": null,
            "border": null,
            "bottom": null,
            "display": null,
            "flex": null,
            "flex_flow": null,
            "grid_area": null,
            "grid_auto_columns": null,
            "grid_auto_flow": null,
            "grid_auto_rows": null,
            "grid_column": null,
            "grid_gap": null,
            "grid_row": null,
            "grid_template_areas": null,
            "grid_template_columns": null,
            "grid_template_rows": null,
            "height": null,
            "justify_content": null,
            "justify_items": null,
            "left": null,
            "margin": null,
            "max_height": null,
            "max_width": null,
            "min_height": null,
            "min_width": null,
            "object_fit": null,
            "object_position": null,
            "order": null,
            "overflow": null,
            "overflow_x": null,
            "overflow_y": null,
            "padding": null,
            "right": null,
            "top": null,
            "visibility": null,
            "width": null
          }
        },
        "f58325fd89f74c079454decee7e7a906": {
          "model_module": "@jupyter-widgets/controls",
          "model_name": "DescriptionStyleModel",
          "model_module_version": "1.5.0",
          "state": {
            "_model_module": "@jupyter-widgets/controls",
            "_model_module_version": "1.5.0",
            "_model_name": "DescriptionStyleModel",
            "_view_count": null,
            "_view_module": "@jupyter-widgets/base",
            "_view_module_version": "1.2.0",
            "_view_name": "StyleView",
            "description_width": ""
          }
        },
        "b989aa23e4924569b7e4ff5392ed4a3b": {
          "model_module": "@jupyter-widgets/controls",
          "model_name": "HBoxModel",
          "model_module_version": "1.5.0",
          "state": {
            "_dom_classes": [],
            "_model_module": "@jupyter-widgets/controls",
            "_model_module_version": "1.5.0",
            "_model_name": "HBoxModel",
            "_view_count": null,
            "_view_module": "@jupyter-widgets/controls",
            "_view_module_version": "1.5.0",
            "_view_name": "HBoxView",
            "box_style": "",
            "children": [
              "IPY_MODEL_ad32df5b47df4156a1b92098fd76ca3a",
              "IPY_MODEL_0bf484e207a148cfaa10677b292514f3",
              "IPY_MODEL_2973b2a7c59a4b1b89376182f24fd0ad"
            ],
            "layout": "IPY_MODEL_fc8128f829da409eb1db92187f024b25"
          }
        },
        "ad32df5b47df4156a1b92098fd76ca3a": {
          "model_module": "@jupyter-widgets/controls",
          "model_name": "HTMLModel",
          "model_module_version": "1.5.0",
          "state": {
            "_dom_classes": [],
            "_model_module": "@jupyter-widgets/controls",
            "_model_module_version": "1.5.0",
            "_model_name": "HTMLModel",
            "_view_count": null,
            "_view_module": "@jupyter-widgets/controls",
            "_view_module_version": "1.5.0",
            "_view_name": "HTMLView",
            "description": "",
            "description_tooltip": null,
            "layout": "IPY_MODEL_f9cb2dd4aa9b4d549022fbae27f937a0",
            "placeholder": "​",
            "style": "IPY_MODEL_2cfeeb784dd0422dbcd91998e6fb6edd",
            "value": "model.safetensors: 100%"
          }
        },
        "0bf484e207a148cfaa10677b292514f3": {
          "model_module": "@jupyter-widgets/controls",
          "model_name": "FloatProgressModel",
          "model_module_version": "1.5.0",
          "state": {
            "_dom_classes": [],
            "_model_module": "@jupyter-widgets/controls",
            "_model_module_version": "1.5.0",
            "_model_name": "FloatProgressModel",
            "_view_count": null,
            "_view_module": "@jupyter-widgets/controls",
            "_view_module_version": "1.5.0",
            "_view_name": "ProgressView",
            "bar_style": "success",
            "description": "",
            "description_tooltip": null,
            "layout": "IPY_MODEL_d82cebbc3d5e47738cf23419ca7b2898",
            "max": 440449768,
            "min": 0,
            "orientation": "horizontal",
            "style": "IPY_MODEL_184d1423443f4106b260351d88877553",
            "value": 440449768
          }
        },
        "2973b2a7c59a4b1b89376182f24fd0ad": {
          "model_module": "@jupyter-widgets/controls",
          "model_name": "HTMLModel",
          "model_module_version": "1.5.0",
          "state": {
            "_dom_classes": [],
            "_model_module": "@jupyter-widgets/controls",
            "_model_module_version": "1.5.0",
            "_model_name": "HTMLModel",
            "_view_count": null,
            "_view_module": "@jupyter-widgets/controls",
            "_view_module_version": "1.5.0",
            "_view_name": "HTMLView",
            "description": "",
            "description_tooltip": null,
            "layout": "IPY_MODEL_9b5bc5f150f84f478efcc576fd4ba3a5",
            "placeholder": "​",
            "style": "IPY_MODEL_d48be996fa2349e5b415f6b86561a123",
            "value": " 440M/440M [00:02&lt;00:00, 238MB/s]"
          }
        },
        "fc8128f829da409eb1db92187f024b25": {
          "model_module": "@jupyter-widgets/base",
          "model_name": "LayoutModel",
          "model_module_version": "1.2.0",
          "state": {
            "_model_module": "@jupyter-widgets/base",
            "_model_module_version": "1.2.0",
            "_model_name": "LayoutModel",
            "_view_count": null,
            "_view_module": "@jupyter-widgets/base",
            "_view_module_version": "1.2.0",
            "_view_name": "LayoutView",
            "align_content": null,
            "align_items": null,
            "align_self": null,
            "border": null,
            "bottom": null,
            "display": null,
            "flex": null,
            "flex_flow": null,
            "grid_area": null,
            "grid_auto_columns": null,
            "grid_auto_flow": null,
            "grid_auto_rows": null,
            "grid_column": null,
            "grid_gap": null,
            "grid_row": null,
            "grid_template_areas": null,
            "grid_template_columns": null,
            "grid_template_rows": null,
            "height": null,
            "justify_content": null,
            "justify_items": null,
            "left": null,
            "margin": null,
            "max_height": null,
            "max_width": null,
            "min_height": null,
            "min_width": null,
            "object_fit": null,
            "object_position": null,
            "order": null,
            "overflow": null,
            "overflow_x": null,
            "overflow_y": null,
            "padding": null,
            "right": null,
            "top": null,
            "visibility": null,
            "width": null
          }
        },
        "f9cb2dd4aa9b4d549022fbae27f937a0": {
          "model_module": "@jupyter-widgets/base",
          "model_name": "LayoutModel",
          "model_module_version": "1.2.0",
          "state": {
            "_model_module": "@jupyter-widgets/base",
            "_model_module_version": "1.2.0",
            "_model_name": "LayoutModel",
            "_view_count": null,
            "_view_module": "@jupyter-widgets/base",
            "_view_module_version": "1.2.0",
            "_view_name": "LayoutView",
            "align_content": null,
            "align_items": null,
            "align_self": null,
            "border": null,
            "bottom": null,
            "display": null,
            "flex": null,
            "flex_flow": null,
            "grid_area": null,
            "grid_auto_columns": null,
            "grid_auto_flow": null,
            "grid_auto_rows": null,
            "grid_column": null,
            "grid_gap": null,
            "grid_row": null,
            "grid_template_areas": null,
            "grid_template_columns": null,
            "grid_template_rows": null,
            "height": null,
            "justify_content": null,
            "justify_items": null,
            "left": null,
            "margin": null,
            "max_height": null,
            "max_width": null,
            "min_height": null,
            "min_width": null,
            "object_fit": null,
            "object_position": null,
            "order": null,
            "overflow": null,
            "overflow_x": null,
            "overflow_y": null,
            "padding": null,
            "right": null,
            "top": null,
            "visibility": null,
            "width": null
          }
        },
        "2cfeeb784dd0422dbcd91998e6fb6edd": {
          "model_module": "@jupyter-widgets/controls",
          "model_name": "DescriptionStyleModel",
          "model_module_version": "1.5.0",
          "state": {
            "_model_module": "@jupyter-widgets/controls",
            "_model_module_version": "1.5.0",
            "_model_name": "DescriptionStyleModel",
            "_view_count": null,
            "_view_module": "@jupyter-widgets/base",
            "_view_module_version": "1.2.0",
            "_view_name": "StyleView",
            "description_width": ""
          }
        },
        "d82cebbc3d5e47738cf23419ca7b2898": {
          "model_module": "@jupyter-widgets/base",
          "model_name": "LayoutModel",
          "model_module_version": "1.2.0",
          "state": {
            "_model_module": "@jupyter-widgets/base",
            "_model_module_version": "1.2.0",
            "_model_name": "LayoutModel",
            "_view_count": null,
            "_view_module": "@jupyter-widgets/base",
            "_view_module_version": "1.2.0",
            "_view_name": "LayoutView",
            "align_content": null,
            "align_items": null,
            "align_self": null,
            "border": null,
            "bottom": null,
            "display": null,
            "flex": null,
            "flex_flow": null,
            "grid_area": null,
            "grid_auto_columns": null,
            "grid_auto_flow": null,
            "grid_auto_rows": null,
            "grid_column": null,
            "grid_gap": null,
            "grid_row": null,
            "grid_template_areas": null,
            "grid_template_columns": null,
            "grid_template_rows": null,
            "height": null,
            "justify_content": null,
            "justify_items": null,
            "left": null,
            "margin": null,
            "max_height": null,
            "max_width": null,
            "min_height": null,
            "min_width": null,
            "object_fit": null,
            "object_position": null,
            "order": null,
            "overflow": null,
            "overflow_x": null,
            "overflow_y": null,
            "padding": null,
            "right": null,
            "top": null,
            "visibility": null,
            "width": null
          }
        },
        "184d1423443f4106b260351d88877553": {
          "model_module": "@jupyter-widgets/controls",
          "model_name": "ProgressStyleModel",
          "model_module_version": "1.5.0",
          "state": {
            "_model_module": "@jupyter-widgets/controls",
            "_model_module_version": "1.5.0",
            "_model_name": "ProgressStyleModel",
            "_view_count": null,
            "_view_module": "@jupyter-widgets/base",
            "_view_module_version": "1.2.0",
            "_view_name": "StyleView",
            "bar_color": null,
            "description_width": ""
          }
        },
        "9b5bc5f150f84f478efcc576fd4ba3a5": {
          "model_module": "@jupyter-widgets/base",
          "model_name": "LayoutModel",
          "model_module_version": "1.2.0",
          "state": {
            "_model_module": "@jupyter-widgets/base",
            "_model_module_version": "1.2.0",
            "_model_name": "LayoutModel",
            "_view_count": null,
            "_view_module": "@jupyter-widgets/base",
            "_view_module_version": "1.2.0",
            "_view_name": "LayoutView",
            "align_content": null,
            "align_items": null,
            "align_self": null,
            "border": null,
            "bottom": null,
            "display": null,
            "flex": null,
            "flex_flow": null,
            "grid_area": null,
            "grid_auto_columns": null,
            "grid_auto_flow": null,
            "grid_auto_rows": null,
            "grid_column": null,
            "grid_gap": null,
            "grid_row": null,
            "grid_template_areas": null,
            "grid_template_columns": null,
            "grid_template_rows": null,
            "height": null,
            "justify_content": null,
            "justify_items": null,
            "left": null,
            "margin": null,
            "max_height": null,
            "max_width": null,
            "min_height": null,
            "min_width": null,
            "object_fit": null,
            "object_position": null,
            "order": null,
            "overflow": null,
            "overflow_x": null,
            "overflow_y": null,
            "padding": null,
            "right": null,
            "top": null,
            "visibility": null,
            "width": null
          }
        },
        "d48be996fa2349e5b415f6b86561a123": {
          "model_module": "@jupyter-widgets/controls",
          "model_name": "DescriptionStyleModel",
          "model_module_version": "1.5.0",
          "state": {
            "_model_module": "@jupyter-widgets/controls",
            "_model_module_version": "1.5.0",
            "_model_name": "DescriptionStyleModel",
            "_view_count": null,
            "_view_module": "@jupyter-widgets/base",
            "_view_module_version": "1.2.0",
            "_view_name": "StyleView",
            "description_width": ""
          }
        }
      }
    }
  },
  "nbformat": 4,
  "nbformat_minor": 0
}